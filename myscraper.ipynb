{
 "cells": [
  {
   "cell_type": "code",
   "execution_count": 165,
   "id": "77456503",
   "metadata": {},
   "outputs": [],
   "source": [
    "import requests\n",
    "from bs4 import BeautifulSoup\n",
    "import pandas as pd\n",
    "import os\n",
    "import re\n",
    "import math\n",
    "from tqdm import tqdm\n",
    "import sys\n",
    "import csv\n",
    "import concurrent.futures\n",
    "import time\n",
    "MAX_THREADS = 30"
   ]
  },
  {
   "cell_type": "code",
   "execution_count": 166,
   "id": "80b6e12f",
   "metadata": {},
   "outputs": [],
   "source": [
    "def tag_scrape(tag_keyword):\n",
    "    url = \"https://stackoverflow.com/filter/tags-for-index\"\n",
    "    data_obj = { 'filter': tag_keyword, 'tab': 'Name', 'fkey': 'StackExchange.options.user.fkey' }\n",
    "    \n",
    "    response = s.post(url, data = data_obj)\n",
    "    soup = BeautifulSoup(response.content, 'html.parser')\n",
    "    tags = soup.find_all(\"a\", class_=\"post-tag\")\n",
    "    \n",
    "    tags_list = []\n",
    "    for tag in tags: \n",
    "        tags_list.append(tag.text)\n",
    "    \n",
    "    print(f'\\nFound {len(tags_list)} tag(s):\\n{tags_list}')\n",
    "    \n",
    "    return tags_list"
   ]
  },
  {
   "cell_type": "code",
   "execution_count": 167,
   "id": "ba5d03c0",
   "metadata": {},
   "outputs": [],
   "source": [
    "def page_scrape(page_count, sort_param=\"Newest\", filter_b=False, tag_keyword=None):\n",
    "    try:\n",
    "        page_no = 1\n",
    "\n",
    "        if(filter_b):\n",
    "            tag_keyword = tag_keyword.replace(\"#\", \"%23\")\n",
    "            url = f'https://stackoverflow.com/questions/tagged/{tag_keyword}?tab={sort_param}&page={page_no}&pagesize=50'\n",
    "        else:\n",
    "            url = f'https://stackoverflow.com/questions?tab={sort_param}&page={page_no}&pagesize=50'\n",
    "\n",
    "        response = s.get(url, allow_redirects=True)\n",
    "        soup = BeautifulSoup(response.content, 'html.parser')\n",
    "\n",
    "        qns_t = soup.find_all(\"div\", class_=\"fs-body3 flex--item fl1 mr12 sm:mr0 sm:mb12\")\n",
    "\n",
    "        max_qns = int(re.sub('[^0-9]', \"\", qns_t[0].text.replace(\",\",\"\")))\n",
    "        max_pages = math.ceil(max_qns/50)\n",
    "\n",
    "        if(page_count < max_pages):\n",
    "            max_qns = page_count * 50\n",
    "\n",
    "        page_count = min(page_count, max_pages)\n",
    "\n",
    "        if(filter_b):\n",
    "            print(f'\\nScraping {page_count} page(s) or {max_qns} questions for tag {tag_keyword}')\n",
    "        else:\n",
    "            print(f'\\nScraping {page_count} page(s) or {max_qns} questions')\n",
    "\n",
    "        with tqdm(total=page_count, file=sys.stdout) as pbar:\n",
    "            for page_no in range(1, page_count+1):\n",
    "                if(filter_b):\n",
    "                    url = f'https://stackoverflow.com/questions/tagged/{tag_keyword}?tab={sort_param}&page={page_no}&pagesize=50'\n",
    "                else:\n",
    "                    url = f'https://stackoverflow.com/questions?tab={sort_param}&page={page_no}&pagesize=50'\n",
    "\n",
    "                resp_page = s.get(url, allow_redirects=True)\n",
    "                soup = BeautifulSoup(resp_page.content, 'html.parser')\n",
    "\n",
    "                qn_links = soup.select(\"a[class=question-hyperlink]\")\n",
    "                threads = min(MAX_THREADS, len(qn_links))\n",
    "\n",
    "                with concurrent.futures.ThreadPoolExecutor(max_workers=threads) as executor:\n",
    "                    executor.map(qn_scrape, qn_links)\n",
    "                pbar.update(1)\n",
    "    except Exception as e:\n",
    "        print(e)"
   ]
  },
  {
   "cell_type": "code",
   "execution_count": 168,
   "id": "9a316d4b",
   "metadata": {},
   "outputs": [],
   "source": [
    "def qn_scrape(qn_link):\n",
    "    try:\n",
    "        url = f'https://stackoverflow.com{qn_link[\"href\"]}'\n",
    "        qn_page = s.get(url, allow_redirects=True)\n",
    "        qn_soup = BeautifulSoup(qn_page.content, 'html.parser')\n",
    "        \n",
    "        qn = qn_soup.find(\"div\", class_=\"postcell\")\n",
    "        qn_title = qn_soup.find(\"a\", href=qn_link[\"href\"])\n",
    "        qn_body = qn.find(\"div\", class_=\"s-prose\")\n",
    "        qn_tags = qn.find_all(\"a\", class_=\"post-tag\")\n",
    "                    \n",
    "        dataset.append([str(qn_title.text), str(qn_body.text), [tag.text for tag in qn_tags], len(qn_tags)])\n",
    "    except:\n",
    "        pass"
   ]
  },
  {
   "cell_type": "code",
   "execution_count": 169,
   "id": "f8a450ab",
   "metadata": {},
   "outputs": [],
   "source": [
    "def scraper():\n",
    "    \"\"\"\n",
    "    Scraping function\n",
    "    \"\"\"\n",
    "    print(\"\\n----------------Stackoverflow Scraper----------------\\n\")\n",
    "    sort_param = input(\"Sort questions based on - Newest (Default), Active, Bounties, Unanswered, Frequent, Votes\\n>\")\n",
    "    sort_param = sort_param.capitalize()\n",
    "    \n",
    "    filter_b = ((input(\"Filter questions by tag [Y/n] >\").capitalize()) == \"Y\")\n",
    "    \n",
    "    tag_keyword = None\n",
    "    if(filter_b):\n",
    "        while(True):\n",
    "            tag_keyword = input(\"Enter a keyword to find all matching tags >\")\n",
    "            tags_list = tag_scrape(tag_keyword)\n",
    "            \n",
    "            if(input(\"Proceed with the above tags [Y/n] >\").lower() == \"y\"):\n",
    "                break\n",
    "        \n",
    "        page_count = int(input(\"Enter number of pages to scrape per tag >\"))\n",
    "        for tag in tags_list:\n",
    "            page_scrape(page_count=page_count, sort_param=sort_param, filter_b=filter_b, tag_keyword=tag)\n",
    "    else:\n",
    "        page_count = int(input(\"Enter number of pages to scrape >\"))\n",
    "        page_scrape(page_count=page_count, sort_param=sort_param, filter_b=filter_b)"
   ]
  },
  {
   "cell_type": "code",
   "execution_count": 170,
   "id": "2aeb14ee",
   "metadata": {},
   "outputs": [
    {
     "name": "stdout",
     "output_type": "stream",
     "text": [
      "\n",
      "----------------Stackoverflow Scraper----------------\n",
      "\n",
      "Sort questions based on - Newest (Default), Active, Bounties, Unanswered, Frequent, Votes\n",
      ">\n",
      "Filter questions by tag [Y/n] >n\n",
      "Enter number of pages to scrape >3\n",
      "\n",
      "Scraping 3 page(s) or 150 questions\n",
      "100%|████████████████████████████████████████████████████████████████████████████████████| 3/3 [00:53<00:00, 17.94s/it]\n",
      "Quit scraper [Y/n] >Y\n",
      "Enter output filename (e.g. output.csv): test.csv\n"
     ]
    }
   ],
   "source": [
    "if __name__ == \"__main__\":\n",
    "    s = requests.session()\n",
    "    dataset = []\n",
    "    while(True):\n",
    "        scraper()\n",
    "        if(input(\"Quit scraper [Y/n] >\").lower() == \"y\"):\n",
    "            break\n",
    "    \n",
    "    file_name = input(\"Enter output filename (e.g. output.csv): \")\n",
    "    df = pd.DataFrame(dataset, columns = ['Title', 'Body', 'Tags', 'Tag Count'])\n",
    "    df.to_csv(file_name, sep=\";\", encoding='utf-8-sig', index_label='ID')"
   ]
  },
  {
   "cell_type": "code",
   "execution_count": 171,
   "id": "dbc8a365",
   "metadata": {},
   "outputs": [
    {
     "data": {
      "text/html": [
       "<div>\n",
       "<style scoped>\n",
       "    .dataframe tbody tr th:only-of-type {\n",
       "        vertical-align: middle;\n",
       "    }\n",
       "\n",
       "    .dataframe tbody tr th {\n",
       "        vertical-align: top;\n",
       "    }\n",
       "\n",
       "    .dataframe thead th {\n",
       "        text-align: right;\n",
       "    }\n",
       "</style>\n",
       "<table border=\"1\" class=\"dataframe\">\n",
       "  <thead>\n",
       "    <tr style=\"text-align: right;\">\n",
       "      <th></th>\n",
       "      <th>ID</th>\n",
       "      <th>Title</th>\n",
       "      <th>Body</th>\n",
       "      <th>Tags</th>\n",
       "      <th>Tag Count</th>\n",
       "    </tr>\n",
       "  </thead>\n",
       "  <tbody>\n",
       "    <tr>\n",
       "      <th>0</th>\n",
       "      <td>0</td>\n",
       "      <td>Can I run react-native app on a real ios devic...</td>\n",
       "      <td>\\nI have a window machine and an Iphone and I ...</td>\n",
       "      <td>['ios', 'react-native']</td>\n",
       "      <td>2</td>\n",
       "    </tr>\n",
       "    <tr>\n",
       "      <th>1</th>\n",
       "      <td>1</td>\n",
       "      <td>How to select with conditions in relation in T...</td>\n",
       "      <td>\\nI want to find row in Friendship, where frie...</td>\n",
       "      <td>['javascript', 'typescript', 'typeorm']</td>\n",
       "      <td>3</td>\n",
       "    </tr>\n",
       "    <tr>\n",
       "      <th>2</th>\n",
       "      <td>2</td>\n",
       "      <td>How to pass value of a form to another form PHP?</td>\n",
       "      <td>\\nI have a form A in index.php which I need to...</td>\n",
       "      <td>['php', 'model-view-controller']</td>\n",
       "      <td>2</td>\n",
       "    </tr>\n",
       "    <tr>\n",
       "      <th>3</th>\n",
       "      <td>3</td>\n",
       "      <td>Why does C# compiler generate anonymous delega...</td>\n",
       "      <td>\\nConsider the following code creating and run...</td>\n",
       "      <td>['c#', 'delegates', 'anonymous-methods']</td>\n",
       "      <td>3</td>\n",
       "    </tr>\n",
       "    <tr>\n",
       "      <th>4</th>\n",
       "      <td>4</td>\n",
       "      <td>Why l got this error when i try to change conn...</td>\n",
       "      <td>\\nSalem,\\nI'm new in laravel 8 and i'm using s...</td>\n",
       "      <td>['php', 'laravel-8', 'laravel-blade', 'sql-ser...</td>\n",
       "      <td>4</td>\n",
       "    </tr>\n",
       "  </tbody>\n",
       "</table>\n",
       "</div>"
      ],
      "text/plain": [
       "   ID                                              Title  \\\n",
       "0   0  Can I run react-native app on a real ios devic...   \n",
       "1   1  How to select with conditions in relation in T...   \n",
       "2   2   How to pass value of a form to another form PHP?   \n",
       "3   3  Why does C# compiler generate anonymous delega...   \n",
       "4   4  Why l got this error when i try to change conn...   \n",
       "\n",
       "                                                Body  \\\n",
       "0  \\nI have a window machine and an Iphone and I ...   \n",
       "1  \\nI want to find row in Friendship, where frie...   \n",
       "2  \\nI have a form A in index.php which I need to...   \n",
       "3  \\nConsider the following code creating and run...   \n",
       "4  \\nSalem,\\nI'm new in laravel 8 and i'm using s...   \n",
       "\n",
       "                                                Tags  Tag Count  \n",
       "0                            ['ios', 'react-native']          2  \n",
       "1            ['javascript', 'typescript', 'typeorm']          3  \n",
       "2                   ['php', 'model-view-controller']          2  \n",
       "3           ['c#', 'delegates', 'anonymous-methods']          3  \n",
       "4  ['php', 'laravel-8', 'laravel-blade', 'sql-ser...          4  "
      ]
     },
     "execution_count": 171,
     "metadata": {},
     "output_type": "execute_result"
    }
   ],
   "source": [
    "data = pd.read_csv(file_name, sep=\";\")\n",
    "data.head()"
   ]
  },
  {
   "cell_type": "code",
   "execution_count": 172,
   "id": "f38ef4d7",
   "metadata": {},
   "outputs": [
    {
     "data": {
      "text/plain": [
       "ID           False\n",
       "Title        False\n",
       "Body         False\n",
       "Tags         False\n",
       "Tag Count    False\n",
       "dtype: bool"
      ]
     },
     "execution_count": 172,
     "metadata": {},
     "output_type": "execute_result"
    }
   ],
   "source": [
    "data.isna().any()"
   ]
  },
  {
   "cell_type": "code",
   "execution_count": 173,
   "id": "06418b4d",
   "metadata": {},
   "outputs": [
    {
     "data": {
      "text/plain": [
       "148"
      ]
     },
     "execution_count": 173,
     "metadata": {},
     "output_type": "execute_result"
    }
   ],
   "source": [
    "len(data)"
   ]
  }
 ],
 "metadata": {
  "kernelspec": {
   "display_name": "Python 3",
   "language": "python",
   "name": "python3"
  },
  "language_info": {
   "codemirror_mode": {
    "name": "ipython",
    "version": 3
   },
   "file_extension": ".py",
   "mimetype": "text/x-python",
   "name": "python",
   "nbconvert_exporter": "python",
   "pygments_lexer": "ipython3",
   "version": "3.8.10"
  }
 },
 "nbformat": 4,
 "nbformat_minor": 5
}
