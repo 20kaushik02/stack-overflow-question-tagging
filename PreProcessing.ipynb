{
 "cells": [
  {
   "cell_type": "code",
   "execution_count": 12,
   "id": "5666b871",
   "metadata": {},
   "outputs": [
    {
     "name": "stderr",
     "output_type": "stream",
     "text": [
      "[nltk_data] Downloading package punkt to\n",
      "[nltk_data]     C:\\Users\\admin\\AppData\\Roaming\\nltk_data...\n",
      "[nltk_data]   Package punkt is already up-to-date!\n",
      "[nltk_data] Downloading package stopwords to\n",
      "[nltk_data]     C:\\Users\\admin\\AppData\\Roaming\\nltk_data...\n",
      "[nltk_data]   Package stopwords is already up-to-date!\n"
     ]
    }
   ],
   "source": [
    "from bs4 import BeautifulSoup\n",
    "import nltk\n",
    "nltk.download(\"punkt\")\n",
    "from nltk.corpus import stopwords\n",
    "nltk.download(\"stopwords\")\n",
    "import pandas as pd\n",
    "from tqdm.notebook import tqdm\n",
    "tqdm.pandas()"
   ]
  },
  {
   "cell_type": "code",
   "execution_count": 13,
   "id": "01d255a5",
   "metadata": {},
   "outputs": [
    {
     "name": "stdout",
     "output_type": "stream",
     "text": [
      "PRE-PROCESSING ON: StackSample_merged.csv\n"
     ]
    },
    {
     "data": {
      "text/html": [
       "<div>\n",
       "<style scoped>\n",
       "    .dataframe tbody tr th:only-of-type {\n",
       "        vertical-align: middle;\n",
       "    }\n",
       "\n",
       "    .dataframe tbody tr th {\n",
       "        vertical-align: top;\n",
       "    }\n",
       "\n",
       "    .dataframe thead th {\n",
       "        text-align: right;\n",
       "    }\n",
       "</style>\n",
       "<table border=\"1\" class=\"dataframe\">\n",
       "  <thead>\n",
       "    <tr style=\"text-align: right;\">\n",
       "      <th></th>\n",
       "      <th>ID</th>\n",
       "      <th>Title</th>\n",
       "      <th>Body</th>\n",
       "      <th>Tags</th>\n",
       "      <th>Tag Count</th>\n",
       "    </tr>\n",
       "  </thead>\n",
       "  <tbody>\n",
       "    <tr>\n",
       "      <th>0</th>\n",
       "      <td>0</td>\n",
       "      <td>ASP.NET Site Maps</td>\n",
       "      <td>&lt;p&gt;Has anyone got experience creating &lt;strong&gt;...</td>\n",
       "      <td>['asp.net', 'sitemap', 'sql']</td>\n",
       "      <td>3</td>\n",
       "    </tr>\n",
       "    <tr>\n",
       "      <th>1</th>\n",
       "      <td>1</td>\n",
       "      <td>Function for creating color wheels</td>\n",
       "      <td>&lt;p&gt;This is something I've pseudo-solved many t...</td>\n",
       "      <td>['algorithm', 'colors', 'language-agnostic', '...</td>\n",
       "      <td>4</td>\n",
       "    </tr>\n",
       "    <tr>\n",
       "      <th>2</th>\n",
       "      <td>2</td>\n",
       "      <td>Adding scripting functionality to .NET applica...</td>\n",
       "      <td>&lt;p&gt;I have a little game written in C#. It uses...</td>\n",
       "      <td>['c#', 'compiler-construction', '.net', 'scrip...</td>\n",
       "      <td>4</td>\n",
       "    </tr>\n",
       "    <tr>\n",
       "      <th>3</th>\n",
       "      <td>3</td>\n",
       "      <td>Should I use nested classes in this case?</td>\n",
       "      <td>&lt;p&gt;I am working on a collection of classes use...</td>\n",
       "      <td>['nested-class', 'class', 'c++', 'oop']</td>\n",
       "      <td>4</td>\n",
       "    </tr>\n",
       "    <tr>\n",
       "      <th>4</th>\n",
       "      <td>4</td>\n",
       "      <td>Homegrown consumption of web services</td>\n",
       "      <td>&lt;p&gt;I've been writing a few web services for a ...</td>\n",
       "      <td>['.net', 'web-services']</td>\n",
       "      <td>2</td>\n",
       "    </tr>\n",
       "  </tbody>\n",
       "</table>\n",
       "</div>"
      ],
      "text/plain": [
       "   ID                                              Title  \\\n",
       "0   0                                  ASP.NET Site Maps   \n",
       "1   1                 Function for creating color wheels   \n",
       "2   2  Adding scripting functionality to .NET applica...   \n",
       "3   3          Should I use nested classes in this case?   \n",
       "4   4              Homegrown consumption of web services   \n",
       "\n",
       "                                                Body  \\\n",
       "0  <p>Has anyone got experience creating <strong>...   \n",
       "1  <p>This is something I've pseudo-solved many t...   \n",
       "2  <p>I have a little game written in C#. It uses...   \n",
       "3  <p>I am working on a collection of classes use...   \n",
       "4  <p>I've been writing a few web services for a ...   \n",
       "\n",
       "                                                Tags  Tag Count  \n",
       "0                      ['asp.net', 'sitemap', 'sql']          3  \n",
       "1  ['algorithm', 'colors', 'language-agnostic', '...          4  \n",
       "2  ['c#', 'compiler-construction', '.net', 'scrip...          4  \n",
       "3            ['nested-class', 'class', 'c++', 'oop']          4  \n",
       "4                           ['.net', 'web-services']          2  "
      ]
     },
     "execution_count": 13,
     "metadata": {},
     "output_type": "execute_result"
    }
   ],
   "source": [
    "print(f'PRE-PROCESSING ON: StackSample_merged.csv')\n",
    "stacksample = pd.read_csv(f'StackSample_merged.csv',sep=';')\n",
    "stacksample.head()"
   ]
  },
  {
   "cell_type": "code",
   "execution_count": 14,
   "id": "2bbebe7f",
   "metadata": {},
   "outputs": [
    {
     "name": "stdout",
     "output_type": "stream",
     "text": [
      "Removing HTML tags...\n"
     ]
    },
    {
     "data": {
      "application/vnd.jupyter.widget-view+json": {
       "model_id": "18549ff4b2034eeba8e6c7e065a5c2a4",
       "version_major": 2,
       "version_minor": 0
      },
      "text/plain": [
       "  0%|          | 0/71762 [00:00<?, ?it/s]"
      ]
     },
     "metadata": {},
     "output_type": "display_data"
    }
   ],
   "source": [
    "# parse for text\n",
    "print(\"Removing HTML tags...\")\n",
    "stacksample[\"Body\"] = stacksample[\"Body\"].progress_apply(lambda text: BeautifulSoup(text,'lxml').text)"
   ]
  },
  {
   "cell_type": "code",
   "execution_count": 15,
   "id": "7eee1f56",
   "metadata": {},
   "outputs": [
    {
     "name": "stdout",
     "output_type": "stream",
     "text": [
      "Converting to lower case...\n",
      "Tokenizing using regular expressions...\n"
     ]
    },
    {
     "data": {
      "application/vnd.jupyter.widget-view+json": {
       "model_id": "e0a15fc0005442c2ada4103fd3986a26",
       "version_major": 2,
       "version_minor": 0
      },
      "text/plain": [
       "  0%|          | 0/71762 [00:00<?, ?it/s]"
      ]
     },
     "metadata": {},
     "output_type": "display_data"
    },
    {
     "data": {
      "application/vnd.jupyter.widget-view+json": {
       "model_id": "d0582d18af124a6eb482d0ff77534dc8",
       "version_major": 2,
       "version_minor": 0
      },
      "text/plain": [
       "  0%|          | 0/71762 [00:00<?, ?it/s]"
      ]
     },
     "metadata": {},
     "output_type": "display_data"
    }
   ],
   "source": [
    "print(\"Converting to lower case...\")\n",
    "stacksample[\"Body\"] = stacksample[\"Body\"].str.lower()\n",
    "stacksample[\"Title\"] = stacksample[\"Title\"].str.lower()\n",
    "\n",
    "print(\"Tokenizing using regular expressions...\")\n",
    "pattern = r'''(?x)          # set flag to allow verbose regexps\n",
    "    \\w+[+#]+                # ending with pluses or hashes\n",
    "    | \\w+(?:[-.']+\\w+)*     # words with optional internal special characters\n",
    "    | \\$?\\d+(?:\\.\\d+)?%?    # currency and percentages, e.g. $12.40, 82%\n",
    "    '''\n",
    "stacksample[\"Tokenized Body\"] = stacksample[\"Body\"].progress_apply(lambda text: \\\n",
    "                                                                    nltk.regexp_tokenize(text, pattern))\n",
    "stacksample[\"Tokenized Title\"] = stacksample[\"Title\"].progress_apply(lambda text: \\\n",
    "                                                                        nltk.regexp_tokenize(text, pattern))"
   ]
  },
  {
   "cell_type": "code",
   "execution_count": 16,
   "id": "3169a6af",
   "metadata": {},
   "outputs": [
    {
     "name": "stdout",
     "output_type": "stream",
     "text": [
      "Removing useless stop words...\n"
     ]
    },
    {
     "data": {
      "application/vnd.jupyter.widget-view+json": {
       "model_id": "77661e29fee84766ae0fb8a95726f97c",
       "version_major": 2,
       "version_minor": 0
      },
      "text/plain": [
       "  0%|          | 0/71762 [00:00<?, ?it/s]"
      ]
     },
     "metadata": {},
     "output_type": "display_data"
    },
    {
     "data": {
      "application/vnd.jupyter.widget-view+json": {
       "model_id": "3db30eaba59445de8cbd30c42ab4aa3b",
       "version_major": 2,
       "version_minor": 0
      },
      "text/plain": [
       "  0%|          | 0/71762 [00:00<?, ?it/s]"
      ]
     },
     "metadata": {},
     "output_type": "display_data"
    },
    {
     "data": {
      "text/html": [
       "<div>\n",
       "<style scoped>\n",
       "    .dataframe tbody tr th:only-of-type {\n",
       "        vertical-align: middle;\n",
       "    }\n",
       "\n",
       "    .dataframe tbody tr th {\n",
       "        vertical-align: top;\n",
       "    }\n",
       "\n",
       "    .dataframe thead th {\n",
       "        text-align: right;\n",
       "    }\n",
       "</style>\n",
       "<table border=\"1\" class=\"dataframe\">\n",
       "  <thead>\n",
       "    <tr style=\"text-align: right;\">\n",
       "      <th></th>\n",
       "      <th>ID</th>\n",
       "      <th>Title</th>\n",
       "      <th>Body</th>\n",
       "      <th>Tags</th>\n",
       "      <th>Tag Count</th>\n",
       "      <th>Tokenized Body</th>\n",
       "      <th>Tokenized Title</th>\n",
       "    </tr>\n",
       "  </thead>\n",
       "  <tbody>\n",
       "    <tr>\n",
       "      <th>0</th>\n",
       "      <td>0</td>\n",
       "      <td>asp.net site maps</td>\n",
       "      <td>has anyone got experience creating sql-based a...</td>\n",
       "      <td>['asp.net', 'sitemap', 'sql']</td>\n",
       "      <td>3</td>\n",
       "      <td>[anyone, got, experience, creating, sql-based,...</td>\n",
       "      <td>[asp.net, site, maps]</td>\n",
       "    </tr>\n",
       "    <tr>\n",
       "      <th>1</th>\n",
       "      <td>1</td>\n",
       "      <td>function for creating color wheels</td>\n",
       "      <td>this is something i've pseudo-solved many time...</td>\n",
       "      <td>['algorithm', 'colors', 'language-agnostic', '...</td>\n",
       "      <td>4</td>\n",
       "      <td>[something, i've, pseudo-solved, many, times, ...</td>\n",
       "      <td>[function, creating, color, wheels]</td>\n",
       "    </tr>\n",
       "    <tr>\n",
       "      <th>2</th>\n",
       "      <td>2</td>\n",
       "      <td>adding scripting functionality to .net applica...</td>\n",
       "      <td>i have a little game written in c#. it uses a ...</td>\n",
       "      <td>['c#', 'compiler-construction', '.net', 'scrip...</td>\n",
       "      <td>4</td>\n",
       "      <td>[little, game, written, c#, uses, database, ba...</td>\n",
       "      <td>[adding, scripting, functionality, net, applic...</td>\n",
       "    </tr>\n",
       "    <tr>\n",
       "      <th>3</th>\n",
       "      <td>3</td>\n",
       "      <td>should i use nested classes in this case?</td>\n",
       "      <td>i am working on a collection of classes used f...</td>\n",
       "      <td>['nested-class', 'class', 'c++', 'oop']</td>\n",
       "      <td>4</td>\n",
       "      <td>[working, collection, classes, used, video, pl...</td>\n",
       "      <td>[use, nested, classes, case]</td>\n",
       "    </tr>\n",
       "    <tr>\n",
       "      <th>4</th>\n",
       "      <td>4</td>\n",
       "      <td>homegrown consumption of web services</td>\n",
       "      <td>i've been writing a few web services for a .ne...</td>\n",
       "      <td>['.net', 'web-services']</td>\n",
       "      <td>2</td>\n",
       "      <td>[i've, writing, web, services, net, app, i'm, ...</td>\n",
       "      <td>[homegrown, consumption, web, services]</td>\n",
       "    </tr>\n",
       "  </tbody>\n",
       "</table>\n",
       "</div>"
      ],
      "text/plain": [
       "   ID                                              Title  \\\n",
       "0   0                                  asp.net site maps   \n",
       "1   1                 function for creating color wheels   \n",
       "2   2  adding scripting functionality to .net applica...   \n",
       "3   3          should i use nested classes in this case?   \n",
       "4   4              homegrown consumption of web services   \n",
       "\n",
       "                                                Body  \\\n",
       "0  has anyone got experience creating sql-based a...   \n",
       "1  this is something i've pseudo-solved many time...   \n",
       "2  i have a little game written in c#. it uses a ...   \n",
       "3  i am working on a collection of classes used f...   \n",
       "4  i've been writing a few web services for a .ne...   \n",
       "\n",
       "                                                Tags  Tag Count  \\\n",
       "0                      ['asp.net', 'sitemap', 'sql']          3   \n",
       "1  ['algorithm', 'colors', 'language-agnostic', '...          4   \n",
       "2  ['c#', 'compiler-construction', '.net', 'scrip...          4   \n",
       "3            ['nested-class', 'class', 'c++', 'oop']          4   \n",
       "4                           ['.net', 'web-services']          2   \n",
       "\n",
       "                                      Tokenized Body  \\\n",
       "0  [anyone, got, experience, creating, sql-based,...   \n",
       "1  [something, i've, pseudo-solved, many, times, ...   \n",
       "2  [little, game, written, c#, uses, database, ba...   \n",
       "3  [working, collection, classes, used, video, pl...   \n",
       "4  [i've, writing, web, services, net, app, i'm, ...   \n",
       "\n",
       "                                     Tokenized Title  \n",
       "0                              [asp.net, site, maps]  \n",
       "1                [function, creating, color, wheels]  \n",
       "2  [adding, scripting, functionality, net, applic...  \n",
       "3                       [use, nested, classes, case]  \n",
       "4            [homegrown, consumption, web, services]  "
      ]
     },
     "execution_count": 16,
     "metadata": {},
     "output_type": "execute_result"
    }
   ],
   "source": [
    "print(\"Removing useless stop words...\")\n",
    "stop_words = set(stopwords.words(\"english\"))\n",
    "\n",
    "def filter_stopwords(words):\n",
    "    filtered_words = []\n",
    "    for word in words:\n",
    "        if word not in stop_words:\n",
    "            filtered_words.append(word)\n",
    "    return filtered_words\n",
    "\n",
    "stacksample[\"Tokenized Body\"] = stacksample[\"Tokenized Body\"].progress_apply(filter_stopwords)\n",
    "stacksample[\"Tokenized Title\"] = stacksample[\"Tokenized Title\"].progress_apply(filter_stopwords)\n",
    "stacksample.head()"
   ]
  },
  {
   "cell_type": "code",
   "execution_count": 17,
   "id": "7b38d95d",
   "metadata": {},
   "outputs": [
    {
     "name": "stdout",
     "output_type": "stream",
     "text": [
      "Converting to CSV format...\n"
     ]
    }
   ],
   "source": [
    "print(\"Converting to CSV format...\")\n",
    "stacksample[[\"ID\",\"Tokenized Title\",\"Tokenized Body\",\"Tags\",\"Tag Count\"]].\\\n",
    "    to_csv(f\"StackSample_Pre.csv\",sep=\";\", index=False)"
   ]
  },
  {
   "cell_type": "markdown",
   "id": "a1f64935",
   "metadata": {},
   "source": [
    "# Stemming and Lemmatization"
   ]
  },
  {
   "cell_type": "code",
   "execution_count": 18,
   "id": "78d92694",
   "metadata": {},
   "outputs": [
    {
     "data": {
      "text/html": [
       "<div>\n",
       "<style scoped>\n",
       "    .dataframe tbody tr th:only-of-type {\n",
       "        vertical-align: middle;\n",
       "    }\n",
       "\n",
       "    .dataframe tbody tr th {\n",
       "        vertical-align: top;\n",
       "    }\n",
       "\n",
       "    .dataframe thead th {\n",
       "        text-align: right;\n",
       "    }\n",
       "</style>\n",
       "<table border=\"1\" class=\"dataframe\">\n",
       "  <thead>\n",
       "    <tr style=\"text-align: right;\">\n",
       "      <th></th>\n",
       "      <th>ID</th>\n",
       "      <th>Tokenized Title</th>\n",
       "      <th>Tokenized Body</th>\n",
       "      <th>Tags</th>\n",
       "      <th>Tag Count</th>\n",
       "    </tr>\n",
       "  </thead>\n",
       "  <tbody>\n",
       "    <tr>\n",
       "      <th>0</th>\n",
       "      <td>0</td>\n",
       "      <td>['asp.net', 'site', 'maps']</td>\n",
       "      <td>['anyone', 'got', 'experience', 'creating', 's...</td>\n",
       "      <td>['asp.net', 'sitemap', 'sql']</td>\n",
       "      <td>3</td>\n",
       "    </tr>\n",
       "    <tr>\n",
       "      <th>1</th>\n",
       "      <td>1</td>\n",
       "      <td>['function', 'creating', 'color', 'wheels']</td>\n",
       "      <td>['something', \"i've\", 'pseudo-solved', 'many',...</td>\n",
       "      <td>['algorithm', 'colors', 'language-agnostic', '...</td>\n",
       "      <td>4</td>\n",
       "    </tr>\n",
       "    <tr>\n",
       "      <th>2</th>\n",
       "      <td>2</td>\n",
       "      <td>['adding', 'scripting', 'functionality', 'net'...</td>\n",
       "      <td>['little', 'game', 'written', 'c#', 'uses', 'd...</td>\n",
       "      <td>['c#', 'compiler-construction', '.net', 'scrip...</td>\n",
       "      <td>4</td>\n",
       "    </tr>\n",
       "    <tr>\n",
       "      <th>3</th>\n",
       "      <td>3</td>\n",
       "      <td>['use', 'nested', 'classes', 'case']</td>\n",
       "      <td>['working', 'collection', 'classes', 'used', '...</td>\n",
       "      <td>['nested-class', 'class', 'c++', 'oop']</td>\n",
       "      <td>4</td>\n",
       "    </tr>\n",
       "    <tr>\n",
       "      <th>4</th>\n",
       "      <td>4</td>\n",
       "      <td>['homegrown', 'consumption', 'web', 'services']</td>\n",
       "      <td>[\"i've\", 'writing', 'web', 'services', 'net', ...</td>\n",
       "      <td>['.net', 'web-services']</td>\n",
       "      <td>2</td>\n",
       "    </tr>\n",
       "  </tbody>\n",
       "</table>\n",
       "</div>"
      ],
      "text/plain": [
       "   ID                                    Tokenized Title  \\\n",
       "0   0                        ['asp.net', 'site', 'maps']   \n",
       "1   1        ['function', 'creating', 'color', 'wheels']   \n",
       "2   2  ['adding', 'scripting', 'functionality', 'net'...   \n",
       "3   3               ['use', 'nested', 'classes', 'case']   \n",
       "4   4    ['homegrown', 'consumption', 'web', 'services']   \n",
       "\n",
       "                                      Tokenized Body  \\\n",
       "0  ['anyone', 'got', 'experience', 'creating', 's...   \n",
       "1  ['something', \"i've\", 'pseudo-solved', 'many',...   \n",
       "2  ['little', 'game', 'written', 'c#', 'uses', 'd...   \n",
       "3  ['working', 'collection', 'classes', 'used', '...   \n",
       "4  [\"i've\", 'writing', 'web', 'services', 'net', ...   \n",
       "\n",
       "                                                Tags  Tag Count  \n",
       "0                      ['asp.net', 'sitemap', 'sql']          3  \n",
       "1  ['algorithm', 'colors', 'language-agnostic', '...          4  \n",
       "2  ['c#', 'compiler-construction', '.net', 'scrip...          4  \n",
       "3            ['nested-class', 'class', 'c++', 'oop']          4  \n",
       "4                           ['.net', 'web-services']          2  "
      ]
     },
     "execution_count": 18,
     "metadata": {},
     "output_type": "execute_result"
    }
   ],
   "source": [
    "df = pd.read_csv('StackSample_Pre.csv', sep=';')\n",
    "df.head()"
   ]
  },
  {
   "cell_type": "code",
   "execution_count": 19,
   "id": "11b29df0",
   "metadata": {},
   "outputs": [
    {
     "name": "stderr",
     "output_type": "stream",
     "text": [
      "[nltk_data] Downloading package wordnet to\n",
      "[nltk_data]     C:\\Users\\admin\\AppData\\Roaming\\nltk_data...\n",
      "[nltk_data]   Package wordnet is already up-to-date!\n"
     ]
    }
   ],
   "source": [
    "import ast\n",
    "from nltk.stem import SnowballStemmer\n",
    "from nltk.stem.wordnet import WordNetLemmatizer\n",
    "nltk.download('wordnet')\n",
    "\n",
    "stemmer = SnowballStemmer('english')\n",
    "lemma = WordNetLemmatizer()"
   ]
  },
  {
   "cell_type": "code",
   "execution_count": 20,
   "id": "233c5bc7",
   "metadata": {},
   "outputs": [
    {
     "data": {
      "application/vnd.jupyter.widget-view+json": {
       "model_id": "5cb174119bdc4a19922d7d1e1a123dcf",
       "version_major": 2,
       "version_minor": 0
      },
      "text/plain": [
       "  0%|          | 0/71762 [00:00<?, ?it/s]"
      ]
     },
     "metadata": {},
     "output_type": "display_data"
    },
    {
     "data": {
      "application/vnd.jupyter.widget-view+json": {
       "model_id": "cce853effd824c7dbf1e34e313980abf",
       "version_major": 2,
       "version_minor": 0
      },
      "text/plain": [
       "  0%|          | 0/71762 [00:00<?, ?it/s]"
      ]
     },
     "metadata": {},
     "output_type": "display_data"
    }
   ],
   "source": [
    "# stemming\n",
    "df['Stemmed Body'] = df['Tokenized Body'].progress_apply(lambda x: [stemmer.stem(y) for y in ast.literal_eval(x)])\n",
    "df['Stemmed Title'] = df['Tokenized Title'].progress_apply(lambda x: [stemmer.stem(y) for y in ast.literal_eval(x)])\n",
    "df[[\"ID\",\"Stemmed Title\",\"Stemmed Body\",\"Tags\",\"Tag Count\"]].to_csv(f\"StackSample_Stemmed.csv\",sep=\";\", index=False)"
   ]
  },
  {
   "cell_type": "code",
   "execution_count": 21,
   "id": "0727c29f",
   "metadata": {},
   "outputs": [
    {
     "data": {
      "application/vnd.jupyter.widget-view+json": {
       "model_id": "c248d735db514539afaa4f96ea1247fa",
       "version_major": 2,
       "version_minor": 0
      },
      "text/plain": [
       "  0%|          | 0/71762 [00:00<?, ?it/s]"
      ]
     },
     "metadata": {},
     "output_type": "display_data"
    },
    {
     "data": {
      "application/vnd.jupyter.widget-view+json": {
       "model_id": "c74eb2c9c49d46dab756dc4ff0c27f17",
       "version_major": 2,
       "version_minor": 0
      },
      "text/plain": [
       "  0%|          | 0/71762 [00:00<?, ?it/s]"
      ]
     },
     "metadata": {},
     "output_type": "display_data"
    }
   ],
   "source": [
    "# lemmatization\n",
    "df[\"Lemmatized Body\"] = df[\"Tokenized Body\"].progress_apply(lambda x: [lemma.lemmatize(y, pos=\"v\") for y in ast.literal_eval(x)])\n",
    "df[\"Lemmatized Title\"] = df[\"Tokenized Title\"].progress_apply(lambda x: [lemma.lemmatize(y, pos=\"v\") for y in ast.literal_eval(x)])\n",
    "df[[\"ID\",\"Lemmatized Title\",\"Lemmatized Body\",\"Tags\",\"Tag Count\"]].to_csv(f\"StackSample_Lemmatized.csv\",sep=\";\", index=False)"
   ]
  },
  {
   "cell_type": "code",
   "execution_count": 22,
   "id": "6a2e465d",
   "metadata": {},
   "outputs": [
    {
     "data": {
      "text/html": [
       "<div>\n",
       "<style scoped>\n",
       "    .dataframe tbody tr th:only-of-type {\n",
       "        vertical-align: middle;\n",
       "    }\n",
       "\n",
       "    .dataframe tbody tr th {\n",
       "        vertical-align: top;\n",
       "    }\n",
       "\n",
       "    .dataframe thead th {\n",
       "        text-align: right;\n",
       "    }\n",
       "</style>\n",
       "<table border=\"1\" class=\"dataframe\">\n",
       "  <thead>\n",
       "    <tr style=\"text-align: right;\">\n",
       "      <th></th>\n",
       "      <th>ID</th>\n",
       "      <th>Tokenized Title</th>\n",
       "      <th>Tokenized Body</th>\n",
       "      <th>Tags</th>\n",
       "      <th>Tag Count</th>\n",
       "      <th>Stemmed Body</th>\n",
       "      <th>Stemmed Title</th>\n",
       "      <th>Lemmatized Body</th>\n",
       "      <th>Lemmatized Title</th>\n",
       "    </tr>\n",
       "  </thead>\n",
       "  <tbody>\n",
       "    <tr>\n",
       "      <th>0</th>\n",
       "      <td>0</td>\n",
       "      <td>['asp.net', 'site', 'maps']</td>\n",
       "      <td>['anyone', 'got', 'experience', 'creating', 's...</td>\n",
       "      <td>['asp.net', 'sitemap', 'sql']</td>\n",
       "      <td>3</td>\n",
       "      <td>[anyon, got, experi, creat, sql-base, asp.net,...</td>\n",
       "      <td>[asp.net, site, map]</td>\n",
       "      <td>[anyone, get, experience, create, sql-based, a...</td>\n",
       "      <td>[asp.net, site, map]</td>\n",
       "    </tr>\n",
       "    <tr>\n",
       "      <th>1</th>\n",
       "      <td>1</td>\n",
       "      <td>['function', 'creating', 'color', 'wheels']</td>\n",
       "      <td>['something', \"i've\", 'pseudo-solved', 'many',...</td>\n",
       "      <td>['algorithm', 'colors', 'language-agnostic', '...</td>\n",
       "      <td>4</td>\n",
       "      <td>[someth, i'v, pseudo-solv, mani, time, never, ...</td>\n",
       "      <td>[function, creat, color, wheel]</td>\n",
       "      <td>[something, i've, pseudo-solved, many, time, n...</td>\n",
       "      <td>[function, create, color, wheel]</td>\n",
       "    </tr>\n",
       "    <tr>\n",
       "      <th>2</th>\n",
       "      <td>2</td>\n",
       "      <td>['adding', 'scripting', 'functionality', 'net'...</td>\n",
       "      <td>['little', 'game', 'written', 'c#', 'uses', 'd...</td>\n",
       "      <td>['c#', 'compiler-construction', '.net', 'scrip...</td>\n",
       "      <td>4</td>\n",
       "      <td>[littl, game, written, c#, use, databas, back-...</td>\n",
       "      <td>[ad, script, function, net, applic]</td>\n",
       "      <td>[little, game, write, c#, use, database, back-...</td>\n",
       "      <td>[add, script, functionality, net, applications]</td>\n",
       "    </tr>\n",
       "    <tr>\n",
       "      <th>3</th>\n",
       "      <td>3</td>\n",
       "      <td>['use', 'nested', 'classes', 'case']</td>\n",
       "      <td>['working', 'collection', 'classes', 'used', '...</td>\n",
       "      <td>['nested-class', 'class', 'c++', 'oop']</td>\n",
       "      <td>4</td>\n",
       "      <td>[work, collect, class, use, video, playback, r...</td>\n",
       "      <td>[use, nest, class, case]</td>\n",
       "      <td>[work, collection, class, use, video, playback...</td>\n",
       "      <td>[use, nest, class, case]</td>\n",
       "    </tr>\n",
       "    <tr>\n",
       "      <th>4</th>\n",
       "      <td>4</td>\n",
       "      <td>['homegrown', 'consumption', 'web', 'services']</td>\n",
       "      <td>[\"i've\", 'writing', 'web', 'services', 'net', ...</td>\n",
       "      <td>['.net', 'web-services']</td>\n",
       "      <td>2</td>\n",
       "      <td>[i'v, write, web, servic, net, app, i'm, readi...</td>\n",
       "      <td>[homegrown, consumpt, web, servic]</td>\n",
       "      <td>[i've, write, web, service, net, app, i'm, rea...</td>\n",
       "      <td>[homegrown, consumption, web, service]</td>\n",
       "    </tr>\n",
       "  </tbody>\n",
       "</table>\n",
       "</div>"
      ],
      "text/plain": [
       "   ID                                    Tokenized Title  \\\n",
       "0   0                        ['asp.net', 'site', 'maps']   \n",
       "1   1        ['function', 'creating', 'color', 'wheels']   \n",
       "2   2  ['adding', 'scripting', 'functionality', 'net'...   \n",
       "3   3               ['use', 'nested', 'classes', 'case']   \n",
       "4   4    ['homegrown', 'consumption', 'web', 'services']   \n",
       "\n",
       "                                      Tokenized Body  \\\n",
       "0  ['anyone', 'got', 'experience', 'creating', 's...   \n",
       "1  ['something', \"i've\", 'pseudo-solved', 'many',...   \n",
       "2  ['little', 'game', 'written', 'c#', 'uses', 'd...   \n",
       "3  ['working', 'collection', 'classes', 'used', '...   \n",
       "4  [\"i've\", 'writing', 'web', 'services', 'net', ...   \n",
       "\n",
       "                                                Tags  Tag Count  \\\n",
       "0                      ['asp.net', 'sitemap', 'sql']          3   \n",
       "1  ['algorithm', 'colors', 'language-agnostic', '...          4   \n",
       "2  ['c#', 'compiler-construction', '.net', 'scrip...          4   \n",
       "3            ['nested-class', 'class', 'c++', 'oop']          4   \n",
       "4                           ['.net', 'web-services']          2   \n",
       "\n",
       "                                        Stemmed Body  \\\n",
       "0  [anyon, got, experi, creat, sql-base, asp.net,...   \n",
       "1  [someth, i'v, pseudo-solv, mani, time, never, ...   \n",
       "2  [littl, game, written, c#, use, databas, back-...   \n",
       "3  [work, collect, class, use, video, playback, r...   \n",
       "4  [i'v, write, web, servic, net, app, i'm, readi...   \n",
       "\n",
       "                         Stemmed Title  \\\n",
       "0                 [asp.net, site, map]   \n",
       "1      [function, creat, color, wheel]   \n",
       "2  [ad, script, function, net, applic]   \n",
       "3             [use, nest, class, case]   \n",
       "4   [homegrown, consumpt, web, servic]   \n",
       "\n",
       "                                     Lemmatized Body  \\\n",
       "0  [anyone, get, experience, create, sql-based, a...   \n",
       "1  [something, i've, pseudo-solved, many, time, n...   \n",
       "2  [little, game, write, c#, use, database, back-...   \n",
       "3  [work, collection, class, use, video, playback...   \n",
       "4  [i've, write, web, service, net, app, i'm, rea...   \n",
       "\n",
       "                                  Lemmatized Title  \n",
       "0                             [asp.net, site, map]  \n",
       "1                 [function, create, color, wheel]  \n",
       "2  [add, script, functionality, net, applications]  \n",
       "3                         [use, nest, class, case]  \n",
       "4           [homegrown, consumption, web, service]  "
      ]
     },
     "execution_count": 22,
     "metadata": {},
     "output_type": "execute_result"
    }
   ],
   "source": [
    "df.head()"
   ]
  }
 ],
 "metadata": {
  "kernelspec": {
   "display_name": "Python 3",
   "language": "python",
   "name": "python3"
  },
  "language_info": {
   "codemirror_mode": {
    "name": "ipython",
    "version": 3
   },
   "file_extension": ".py",
   "mimetype": "text/x-python",
   "name": "python",
   "nbconvert_exporter": "python",
   "pygments_lexer": "ipython3",
   "version": "3.8.10"
  }
 },
 "nbformat": 4,
 "nbformat_minor": 5
}
