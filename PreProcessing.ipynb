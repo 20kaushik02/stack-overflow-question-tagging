{
 "cells": [
  {
   "cell_type": "code",
   "execution_count": 79,
   "id": "5666b871",
   "metadata": {},
   "outputs": [
    {
     "name": "stderr",
     "output_type": "stream",
     "text": [
      "<ipython-input-79-bdeefdc2023d>:8: TqdmDeprecationWarning: This function will be removed in tqdm==5.0.0\n",
      "Please use `tqdm.notebook.tqdm` instead of `tqdm.tqdm_notebook`\n",
      "  tqdm_notebook().pandas()\n"
     ]
    },
    {
     "data": {
      "application/vnd.jupyter.widget-view+json": {
       "model_id": "7dfb35c2ccbe4cc69b8da704852b738c",
       "version_major": 2,
       "version_minor": 0
      },
      "text/plain": [
       "0it [00:00, ?it/s]"
      ]
     },
     "metadata": {},
     "output_type": "display_data"
    }
   ],
   "source": [
    "from bs4 import BeautifulSoup\n",
    "import nltk\n",
    "import pandas as pd\n",
    "import sys\n",
    "import csv\n",
    "import os\n",
    "from tqdm import tqdm, tqdm_notebook\n",
    "tqdm_notebook().pandas()"
   ]
  },
  {
   "cell_type": "code",
   "execution_count": null,
   "id": "6d9f2f11",
   "metadata": {},
   "outputs": [
    {
     "name": "stdout",
     "output_type": "stream",
     "text": [
      "\n",
      "    PRE-PROCESSING ON: StackSampleData/StackSample1.csv\n",
      "Removing HTML tags\n"
     ]
    },
    {
     "data": {
      "application/vnd.jupyter.widget-view+json": {
       "model_id": "6494c0abcb264df0b1a894555bb9bde9",
       "version_major": 2,
       "version_minor": 0
      },
      "text/plain": [
       "  0%|          | 0/250000 [00:00<?, ?it/s]"
      ]
     },
     "metadata": {},
     "output_type": "display_data"
    }
   ],
   "source": [
    "iterate = [1,2,3,4]\n",
    "for count in iterate:\n",
    "    print(f'''\n",
    "    PRE-PROCESSING ON: StackSampleData/StackSample{count}.csv''' )\n",
    "    stacksample1 = pd.read_csv(f'StackSampleData/StackSample{count}.csv',sep=\";\")\n",
    "    stacksample1.head()\n",
    "    print('Removing HTML tags')\n",
    "    stacksample1[\"Body\"] = stacksample1[\"Body\"].progress_apply(lambda text: BeautifulSoup(text,'lxml').text)\n",
    "    stacksample1.head()\n",
    "    print('converting to lower case and removing useless stop words...')\n",
    "    stacksample1[\"Body\"] = stacksample1[\"Body\"].str.lower()\n",
    "    stacksample1[\"Title\"] = stacksample1[\"Title\"].str.lower()\n",
    "    nltk.download(\"punkt\")\n",
    "    symbol_topics = [\"c#\", \"c++\", \".net\", \"asp.net\", \"node.js\", \"objective-c\", \"unity3d\", \"html5\", \"css3\", \\\n",
    "                           \"d3.js\", \"utf-8\", \"neo4j\", \"scikit-learn\", \"f#\", \"3d\", \"x86\"]\n",
    "    stacksample1[\"tokenized_body\"] = stacksample1[\"Body\"].progress_apply(lambda text: [word for word in nltk.word_tokenize(text)\\\n",
    "                                                                                      if word.isalpha() or word in list(\"+#\")+\\\n",
    "                                                                                      symbol_topics])\n",
    "    stacksample1[\"tokenized_title\"] = stacksample1[\"Title\"].progress_apply(lambda text: [word for word in nltk.word_tokenize(text)\\\n",
    "                                                                   if word.isalpha() or word in list(\"+#\") + symbol_topics])\n",
    "\n",
    "    stacksample1.head()\n",
    "    mwe_tokenizer = nltk.MWETokenizer(separator=\"\")\n",
    "    mwe_tokenizer.add_mwe((\"c\", \"#\"))\n",
    "    mwe_tokenizer.add_mwe((\"c\", \"+\", \"+\"))\n",
    "    mwe_tokenizer.add_mwe((\"f\", \"#\"))\n",
    "    stacksample1[\"tokenized_body\"] = stacksample1[\"tokenized_body\"].progress_apply(lambda tokens:\\\n",
    "                                                                                   [token for token in\\\n",
    "                                                                                    mwe_tokenizer.tokenize(tokens)])\n",
    "    stacksample1[\"tokenized_title\"] = stacksample1[\"tokenized_title\"].progress_apply(lambda tokens: [token for token in\\\n",
    "                                                                                                    mwe_tokenizer.tokenize(tokens)])\n",
    "    stacksample1.head()\n",
    "    from nltk.corpus import stopwords\n",
    "    nltk.download(\"stopwords\")\n",
    "    stop_words = set(stopwords.words(\"english\"))\n",
    "\n",
    "    def filter_stopwords(words):\n",
    "        filtered_words = []\n",
    "        for word in words:\n",
    "            if word not in stop_words:\n",
    "                filtered_words.append(word)\n",
    "        return filtered_words\n",
    "\n",
    "    stacksample1[\"tokenized_body\"] = stacksample1[\"tokenized_body\"].progress_apply(filter_stopwords)\n",
    "    stacksample1[\"tokenized_title\"] = stacksample1[\"tokenized_title\"].progress_apply(filter_stopwords)\n",
    "    pp.drop([\"Unnamed: 0\"],axis=1,inplace=True)\n",
    "    stacksample1[[\"ID\",\"tokenized_title\",\"tokenized_body\",\"Tags\"]].to_csv(f\"stacksample{count}pp.csv\",sep=\";\")\n",
    "    pp = pd.read_csv(f\"stacksample{count}pp.csv\",sep=\";\")\n",
    "    pp.head()\n",
    "    \n",
    "    "
   ]
  }
 ],
 "metadata": {
  "kernelspec": {
   "display_name": "Python 3",
   "language": "python",
   "name": "python3"
  },
  "language_info": {
   "codemirror_mode": {
    "name": "ipython",
    "version": 3
   },
   "file_extension": ".py",
   "mimetype": "text/x-python",
   "name": "python",
   "nbconvert_exporter": "python",
   "pygments_lexer": "ipython3",
   "version": "3.8.8"
  }
 },
 "nbformat": 4,
 "nbformat_minor": 5
}
