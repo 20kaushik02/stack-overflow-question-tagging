{
 "cells": [
  {
   "cell_type": "code",
   "execution_count": 50,
   "id": "14588905",
   "metadata": {},
   "outputs": [
    {
     "name": "stderr",
     "output_type": "stream",
     "text": [
      "<ipython-input-50-bdeefdc2023d>:8: TqdmDeprecationWarning: This function will be removed in tqdm==5.0.0\n",
      "Please use `tqdm.notebook.tqdm` instead of `tqdm.tqdm_notebook`\n",
      "  tqdm_notebook().pandas()\n"
     ]
    },
    {
     "data": {
      "application/vnd.jupyter.widget-view+json": {
       "model_id": "3565698f8b2c4647a84e58c21c40c3b8",
       "version_major": 2,
       "version_minor": 0
      },
      "text/plain": [
       "0it [00:00, ?it/s]"
      ]
     },
     "metadata": {},
     "output_type": "display_data"
    }
   ],
   "source": [
    "from bs4 import BeautifulSoup\n",
    "import nltk\n",
    "import pandas as pd\n",
    "import sys\n",
    "import csv\n",
    "import os\n",
    "from tqdm import tqdm, tqdm_notebook\n",
    "tqdm_notebook().pandas()"
   ]
  },
  {
   "cell_type": "code",
   "execution_count": null,
   "id": "3cc11ec9",
   "metadata": {},
   "outputs": [
    {
     "name": "stdout",
     "output_type": "stream",
     "text": [
      "\n",
      "    PRE-PROCESSING ON: StackSampleData/StackSample1.csv\n",
      "Removing HTML tags\n"
     ]
    },
    {
     "data": {
      "application/vnd.jupyter.widget-view+json": {
       "model_id": "adeae23d41724e6f8aa2de8a19ea6706",
       "version_major": 2,
       "version_minor": 0
      },
      "text/plain": [
       "  0%|          | 0/250000 [00:00<?, ?it/s]"
      ]
     },
     "metadata": {},
     "output_type": "display_data"
    },
    {
     "name": "stdout",
     "output_type": "stream",
     "text": [
      "converting to lower case and removing useless stop words...\n"
     ]
    },
    {
     "name": "stderr",
     "output_type": "stream",
     "text": [
      "[nltk_data] Downloading package punkt to\n",
      "[nltk_data]     C:\\Users\\ggeorge\\AppData\\Roaming\\nltk_data...\n",
      "[nltk_data]   Package punkt is already up-to-date!\n"
     ]
    },
    {
     "data": {
      "application/vnd.jupyter.widget-view+json": {
       "model_id": "7d394f415f994ee89f8c0f281b8e43d8",
       "version_major": 2,
       "version_minor": 0
      },
      "text/plain": [
       "  0%|          | 0/250000 [00:00<?, ?it/s]"
      ]
     },
     "metadata": {},
     "output_type": "display_data"
    },
    {
     "data": {
      "application/vnd.jupyter.widget-view+json": {
       "model_id": "e27f2cfd04a94dbcac448c4e7dbcc7f0",
       "version_major": 2,
       "version_minor": 0
      },
      "text/plain": [
       "  0%|          | 0/250000 [00:00<?, ?it/s]"
      ]
     },
     "metadata": {},
     "output_type": "display_data"
    },
    {
     "data": {
      "application/vnd.jupyter.widget-view+json": {
       "model_id": "b749f5010ae446c287e4b1eb91f3c9db",
       "version_major": 2,
       "version_minor": 0
      },
      "text/plain": [
       "  0%|          | 0/250000 [00:00<?, ?it/s]"
      ]
     },
     "metadata": {},
     "output_type": "display_data"
    },
    {
     "data": {
      "application/vnd.jupyter.widget-view+json": {
       "model_id": "e834f3bdd32348908653a0db6d0072a5",
       "version_major": 2,
       "version_minor": 0
      },
      "text/plain": [
       "  0%|          | 0/250000 [00:00<?, ?it/s]"
      ]
     },
     "metadata": {},
     "output_type": "display_data"
    },
    {
     "name": "stderr",
     "output_type": "stream",
     "text": [
      "[nltk_data] Downloading package stopwords to\n",
      "[nltk_data]     C:\\Users\\ggeorge\\AppData\\Roaming\\nltk_data...\n",
      "[nltk_data]   Package stopwords is already up-to-date!\n"
     ]
    },
    {
     "data": {
      "application/vnd.jupyter.widget-view+json": {
       "model_id": "4b68f7dfe9c94fe5b15ab88a27c965b0",
       "version_major": 2,
       "version_minor": 0
      },
      "text/plain": [
       "  0%|          | 0/250000 [00:00<?, ?it/s]"
      ]
     },
     "metadata": {},
     "output_type": "display_data"
    },
    {
     "data": {
      "application/vnd.jupyter.widget-view+json": {
       "model_id": "4580659a34b542eaaf48c1ab625090c0",
       "version_major": 2,
       "version_minor": 0
      },
      "text/plain": [
       "  0%|          | 0/250000 [00:00<?, ?it/s]"
      ]
     },
     "metadata": {},
     "output_type": "display_data"
    },
    {
     "name": "stdout",
     "output_type": "stream",
     "text": [
      "\n",
      "    PRE-PROCESSING ON: StackSampleData/StackSample2.csv\n",
      "Removing HTML tags\n"
     ]
    },
    {
     "data": {
      "application/vnd.jupyter.widget-view+json": {
       "model_id": "ff00fe017d8b41a4aa7eb3c18172dbc8",
       "version_major": 2,
       "version_minor": 0
      },
      "text/plain": [
       "  0%|          | 0/250000 [00:00<?, ?it/s]"
      ]
     },
     "metadata": {},
     "output_type": "display_data"
    },
    {
     "name": "stdout",
     "output_type": "stream",
     "text": [
      "converting to lower case and removing useless stop words...\n"
     ]
    },
    {
     "name": "stderr",
     "output_type": "stream",
     "text": [
      "[nltk_data] Downloading package punkt to\n",
      "[nltk_data]     C:\\Users\\ggeorge\\AppData\\Roaming\\nltk_data...\n",
      "[nltk_data]   Package punkt is already up-to-date!\n"
     ]
    },
    {
     "data": {
      "application/vnd.jupyter.widget-view+json": {
       "model_id": "166793cafd704a0980a15daa9ccba340",
       "version_major": 2,
       "version_minor": 0
      },
      "text/plain": [
       "  0%|          | 0/250000 [00:00<?, ?it/s]"
      ]
     },
     "metadata": {},
     "output_type": "display_data"
    },
    {
     "data": {
      "application/vnd.jupyter.widget-view+json": {
       "model_id": "21736572917d42e6bdc587e7282698b4",
       "version_major": 2,
       "version_minor": 0
      },
      "text/plain": [
       "  0%|          | 0/250000 [00:00<?, ?it/s]"
      ]
     },
     "metadata": {},
     "output_type": "display_data"
    }
   ],
   "source": [
    "iterate = [1,2,3,4]\n",
    "for count in iterate:\n",
    "    print(f'''\n",
    "    PRE-PROCESSING ON: StackSampleData/StackSample{count}.csv''' )\n",
    "    stacksample1 = pd.read_csv(f'StackSampleData/StackSample{count}.csv',sep=\";\")\n",
    "    stacksample1.head()\n",
    "    print('Removing HTML tags')\n",
    "    stacksample1[\"Body\"] = stacksample1[\"Body\"].progress_apply(lambda text: BeautifulSoup(text,'lxml').text)\n",
    "    stacksample1.head()\n",
    "    print('converting to lower case and removing useless stop words...')\n",
    "    stacksample1[\"Body\"] = stacksample1[\"Body\"].str.lower()\n",
    "    stacksample1[\"Title\"] = stacksample1[\"Title\"].str.lower()\n",
    "    nltk.download(\"punkt\")\n",
    "    symbol_topics = [\"c#\", \"c++\", \".net\", \"asp.net\", \"node.js\", \"objective-c\", \"unity3d\", \"html5\", \"css3\", \\\n",
    "                           \"d3.js\", \"utf-8\", \"neo4j\", \"scikit-learn\", \"f#\", \"3d\", \"x86\"]\n",
    "    stacksample1[\"tokenized_body\"] = stacksample1[\"Body\"].progress_apply(lambda text: [word for word in nltk.word_tokenize(text)\\\n",
    "                                                                                      if word.isalpha() or word in list(\"+#\")+\\\n",
    "                                                                                      symbol_topics])\n",
    "    stacksample1[\"tokenized_title\"] = stacksample1[\"Title\"].progress_apply(lambda text: [word for word in nltk.word_tokenize(text)\\\n",
    "                                                                   if word.isalpha() or word in list(\"+#\") + symbol_topics])\n",
    "\n",
    "    stacksample1.head()\n",
    "    mwe_tokenizer = nltk.MWETokenizer(separator=\"\")\n",
    "    mwe_tokenizer.add_mwe((\"c\", \"#\"))\n",
    "    mwe_tokenizer.add_mwe((\"c\", \"+\", \"+\"))\n",
    "    mwe_tokenizer.add_mwe((\"f\", \"#\"))\n",
    "    stacksample1[\"tokenized_body\"] = stacksample1[\"tokenized_body\"].progress_apply(lambda tokens:\\\n",
    "                                                                                   [token for token in\\\n",
    "                                                                                    mwe_tokenizer.tokenize(tokens)])\n",
    "    stacksample1[\"tokenized_title\"] = stacksample1[\"tokenized_title\"].progress_apply(lambda tokens: [token for token in\\\n",
    "                                                                                                    mwe_tokenizer.tokenize(tokens)])\n",
    "    stacksample1.head()\n",
    "    from nltk.corpus import stopwords\n",
    "    nltk.download(\"stopwords\")\n",
    "    stop_words = set(stopwords.words(\"english\"))\n",
    "\n",
    "    def filter_stopwords(words):\n",
    "        filtered_words = []\n",
    "        for word in words:\n",
    "            if word not in stop_words:\n",
    "                filtered_words.append(word)\n",
    "        return filtered_words\n",
    "\n",
    "    stacksample1[\"tokenized_body\"] = stacksample1[\"tokenized_body\"].progress_apply(filter_stopwords)\n",
    "    stacksample1[\"tokenized_title\"] = stacksample1[\"tokenized_title\"].progress_apply(filter_stopwords)\n",
    "    pp.drop([\"Unnamed: 0\"],axis=1,inplace=True)\n",
    "    stacksample1[[\"ID\",\"tokenized_title\",\"tokenized_body\",\"Tags\"]].to_csv(\"stacksample1pp.csv\",sep=\";\")\n",
    "    pp = pd.read_csv(\"stacksample1pp.csv\",sep=\";\")\n",
    "    pp.head()\n",
    "    \n",
    "    "
   ]
  }
 ],
 "metadata": {
  "kernelspec": {
   "display_name": "Python 3",
   "language": "python",
   "name": "python3"
  },
  "language_info": {
   "codemirror_mode": {
    "name": "ipython",
    "version": 3
   },
   "file_extension": ".py",
   "mimetype": "text/x-python",
   "name": "python",
   "nbconvert_exporter": "python",
   "pygments_lexer": "ipython3",
   "version": "3.8.8"
  }
 },
 "nbformat": 4,
 "nbformat_minor": 5
}
