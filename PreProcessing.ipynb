{
 "cells": [
  {
   "cell_type": "code",
   "execution_count": null,
   "id": "5666b871",
   "metadata": {},
   "outputs": [],
   "source": [
    "from bs4 import BeautifulSoup\n",
    "import nltk\n",
    "nltk.download(\"punkt\")\n",
    "from nltk.corpus import stopwords\n",
    "nltk.download(\"stopwords\")\n",
    "import pandas as pd\n",
    "from tqdm.notebook import tqdm\n",
    "tqdm.pandas()"
   ]
  },
  {
   "cell_type": "code",
   "execution_count": null,
   "id": "01d255a5",
   "metadata": {},
   "outputs": [],
   "source": [
    "print(f'PRE-PROCESSING ON: StackSample_merged.csv')\n",
    "stacksample = pd.read_csv(f'StackSample_merged.csv',sep=';')\n",
    "stacksample.head()"
   ]
  },
  {
   "cell_type": "code",
   "execution_count": null,
   "id": "2bbebe7f",
   "metadata": {},
   "outputs": [],
   "source": [
    "# parse for text\n",
    "print(\"Removing HTML tags...\")\n",
    "stacksample[\"Body\"] = stacksample[\"Body\"].progress_apply(lambda text: BeautifulSoup(text,'lxml').text)"
   ]
  },
  {
   "cell_type": "code",
   "execution_count": null,
   "id": "7eee1f56",
   "metadata": {},
   "outputs": [],
   "source": [
    "print(\"Converting to lower case...\")\n",
    "stacksample[\"Body\"] = stacksample[\"Body\"].str.lower()\n",
    "stacksample[\"Title\"] = stacksample[\"Title\"].str.lower()\n",
    "\n",
    "print(\"Tokenizing using regular expressions...\")\n",
    "pattern = r'''(?x)          # set flag to allow verbose regexps\n",
    "    \\w+[+#]+                # ending with pluses or hashes\n",
    "    | \\w+(?:[-.']+\\w+)*     # words with optional internal special characters\n",
    "    | \\$?\\d+(?:\\.\\d+)?%?    # currency and percentages, e.g. $12.40, 82%\n",
    "    '''\n",
    "stacksample[\"Tokenized Body\"] = stacksample[\"Body\"].progress_apply(lambda text: \\\n",
    "                                                                    nltk.regexp_tokenize(text, pattern))\n",
    "stacksample[\"Tokenized Title\"] = stacksample[\"Title\"].progress_apply(lambda text: \\\n",
    "                                                                        nltk.regexp_tokenize(text, pattern))"
   ]
  },
  {
   "cell_type": "code",
   "execution_count": null,
   "id": "3169a6af",
   "metadata": {},
   "outputs": [],
   "source": [
    "print(\"Removing useless stop words...\")\n",
    "stop_words = set(stopwords.words(\"english\"))\n",
    "\n",
    "def filter_stopwords(words):\n",
    "    filtered_words = []\n",
    "    for word in words:\n",
    "        if word not in stop_words:\n",
    "            filtered_words.append(word)\n",
    "    return filtered_words\n",
    "\n",
    "stacksample[\"Tokenized Body\"] = stacksample[\"Tokenized Body\"].progress_apply(filter_stopwords)\n",
    "stacksample[\"Tokenized Title\"] = stacksample[\"Tokenized Title\"].progress_apply(filter_stopwords)\n",
    "stacksample.head()"
   ]
  },
  {
   "cell_type": "code",
   "execution_count": null,
   "id": "7b38d95d",
   "metadata": {},
   "outputs": [],
   "source": [
    "print(\"Converting to CSV format...\")\n",
    "stacksample[[\"ID\",\"Tokenized Title\",\"Tokenized Body\",\"Tags\",\"Tag Count\"]].\\\n",
    "    to_csv(f\"StackSample_Pre.csv\",sep=\";\", index=False)"
   ]
  },
  {
   "cell_type": "markdown",
   "id": "a1f64935",
   "metadata": {},
   "source": [
    "# Stemming and Lemmatization"
   ]
  },
  {
   "cell_type": "code",
   "execution_count": null,
   "id": "78d92694",
   "metadata": {},
   "outputs": [],
   "source": [
    "df = pd.read_csv('StackSample_Pre.csv', sep=';')\n",
    "df.head()"
   ]
  },
  {
   "cell_type": "code",
   "execution_count": null,
   "id": "11b29df0",
   "metadata": {},
   "outputs": [],
   "source": [
    "import ast\n",
    "from nltk.stem import SnowballStemmer\n",
    "from nltk.stem.wordnet import WordNetLemmatizer\n",
    "nltk.download('wordnet')\n",
    "\n",
    "stemmer = SnowballStemmer('english')\n",
    "lemma = WordNetLemmatizer()"
   ]
  },
  {
   "cell_type": "code",
   "execution_count": null,
   "id": "233c5bc7",
   "metadata": {},
   "outputs": [],
   "source": [
    "# stemming\n",
    "df['Stemmed Body'] = df['Tokenized Body'].progress_apply(lambda x: [stemmer.stem(y) for y in ast.literal_eval(x)])\n",
    "df['Stemmed Title'] = df['Tokenized Title'].progress_apply(lambda x: [stemmer.stem(y) for y in ast.literal_eval(x)])\n",
    "df[[\"ID\",\"Stemmed Title\",\"Stemmed Body\",\"Tags\",\"Tag Count\"]].to_csv(f\"StackSample_Stemmed.csv\",sep=\";\", index=False)"
   ]
  },
  {
   "cell_type": "code",
   "execution_count": null,
   "id": "0727c29f",
   "metadata": {},
   "outputs": [],
   "source": [
    "# lemmatization\n",
    "df[\"Lemmatized Body\"] = df[\"Tokenized Body\"].progress_apply(lambda x: [lemma.lemmatize(y, pos=\"v\") for y in ast.literal_eval(x)])\n",
    "df[\"Lemmatized Title\"] = df[\"Tokenized Title\"].progress_apply(lambda x: [lemma.lemmatize(y, pos=\"v\") for y in ast.literal_eval(x)])\n",
    "df[[\"ID\",\"Lemmatized Title\",\"Lemmatized Body\",\"Tags\",\"Tag Count\"]].to_csv(f\"StackSample_Lemmatized.csv\",sep=\";\", index=False)"
   ]
  },
  {
   "cell_type": "code",
   "execution_count": null,
   "id": "6a2e465d",
   "metadata": {},
   "outputs": [],
   "source": [
    "df.head()"
   ]
  }
 ],
 "metadata": {
  "kernelspec": {
   "display_name": "Python 3",
   "language": "python",
   "name": "python3"
  },
  "language_info": {
   "codemirror_mode": {
    "name": "ipython",
    "version": 3
   },
   "file_extension": ".py",
   "mimetype": "text/x-python",
   "name": "python",
   "nbconvert_exporter": "python",
   "pygments_lexer": "ipython3",
   "version": "3.8.10"
  }
 },
 "nbformat": 4,
 "nbformat_minor": 5
}
