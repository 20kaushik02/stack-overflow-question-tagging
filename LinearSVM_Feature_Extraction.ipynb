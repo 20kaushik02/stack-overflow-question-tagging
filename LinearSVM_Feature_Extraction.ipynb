{
 "cells": [
  {
   "cell_type": "code",
   "execution_count": null,
   "id": "6a919ffa",
   "metadata": {},
   "outputs": [],
   "source": [
    "import numpy\n",
    "import pandas as pd\n",
    "from sklearn.feature_extraction.text import TfidfVectorizer"
   ]
  },
  {
   "cell_type": "code",
   "execution_count": null,
   "id": "70dcf746",
   "metadata": {},
   "outputs": [],
   "source": [
    "df = pd.read_csv(\"StackSample1_StemLemm.csv\", sep=';')\n",
    "df.head()"
   ]
  },
  {
   "cell_type": "code",
   "execution_count": null,
   "id": "9f5b1b5c",
   "metadata": {},
   "outputs": [],
   "source": [
    "title_vectorizer = TfidfVectorizer(encoding='utf-8-sig', dtype=numpy.float32\\\n",
    "\t#, max_features=100\t(include to limit features)\n",
    "\t)\n",
    "x_title = title_vectorizer.fit_transform(df[\"Lemmatized Title\"])\n",
    "\n",
    "body_vectorizer = TfidfVectorizer(encoding='utf-8-sig', dtype=numpy.float32\\\n",
    "\t#, max_features=1000 (include to limit features)\n",
    "\t)\n",
    "x_body = body_vectorizer.fit_transform(df[\"Lemmatized Body\"])\n",
    "\n",
    "# double weightage for title words\n",
    "x_title = x_title * 2\n",
    "\n",
    "# merge rows\n",
    "from scipy.sparse import hstack\n",
    "\n",
    "X = hstack([x_title, x_body])\n",
    "y = df[\"Tags\"]"
   ]
  },
  {
   "cell_type": "code",
   "execution_count": null,
   "id": "c4c8256e",
   "metadata": {},
   "outputs": [],
   "source": [
    "from sklearn.model_selection import train_test_split\n",
    "\n",
    "X_train, X_test, y_train, y_test = train_test_split(X, y, test_size=0.2, random_state = 10)"
   ]
  },
  {
   "cell_type": "code",
   "execution_count": null,
   "id": "ced0f7df",
   "metadata": {},
   "outputs": [],
   "source": [
    "from sklearn.preprocessing import LabelEncoder\n",
    "Encoder = LabelEncoder()\n",
    "y_train = Encoder.fit_transform(y_train)\n",
    "y_test = Encoder.fit_transform(y_test)"
   ]
  },
  {
   "cell_type": "code",
   "execution_count": null,
   "id": "83ddb4bf",
   "metadata": {},
   "outputs": [],
   "source": [
    "# Feature Scaling\n",
    "from sklearn.preprocessing import StandardScaler\n",
    "sc = StandardScaler(with_mean=False)\n",
    "X_train = sc.fit_transform(X_train)\n",
    "X_test = sc.transform(X_test)"
   ]
  },
  {
   "cell_type": "code",
   "execution_count": null,
   "id": "dcec46c6",
   "metadata": {},
   "outputs": [],
   "source": [
    "# dump to pickle files\n",
    "import joblib\n",
    "\n",
    "joblib.dump(X_train, f\"x_train_1.pkl\")\n",
    "joblib.dump(X_test, f\"x_test_1.pkl\")\n",
    "joblib.dump(y_train, f\"y_train_1.pkl\")\n",
    "joblib.dump(y_test, f\"y_test_1.pkl\")"
   ]
  }
 ],
 "metadata": {
  "kernelspec": {
   "display_name": "Python 3",
   "language": "python",
   "name": "python3"
  },
  "language_info": {
   "codemirror_mode": {
    "name": "ipython",
    "version": 3
   },
   "file_extension": ".py",
   "mimetype": "text/x-python",
   "name": "python",
   "nbconvert_exporter": "python",
   "pygments_lexer": "ipython3",
   "version": "3.8.10"
  }
 },
 "nbformat": 4,
 "nbformat_minor": 5
}
