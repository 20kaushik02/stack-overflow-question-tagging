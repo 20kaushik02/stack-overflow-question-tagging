{
 "cells": [
  {
   "cell_type": "code",
   "execution_count": null,
   "id": "70dcf746",
   "metadata": {},
   "outputs": [],
   "source": [
    "# read preprocessed data\n",
    "import pandas as pd\n",
    "\n",
    "df = pd.read_csv(\"StackSample1_StemLemm.csv\", sep=';')\n",
    "df.head()"
   ]
  },
  {
   "cell_type": "code",
   "execution_count": null,
   "id": "9f5b1b5c",
   "metadata": {},
   "outputs": [],
   "source": [
    "# convert document-word count to Term Frequency - Inverse Document Frequency format\n",
    "\n",
    "from sklearn.feature_extraction.text import TfidfVectorizer\n",
    "import numpy\n",
    "\n",
    "title_vectorizer = TfidfVectorizer(\\\n",
    "\tencoding='utf-8-sig',\\\n",
    "\tdtype=numpy.float32,\\\n",
    "\tmax_features=1000\t#(include to limit features)\n",
    ")\n",
    "x_title = title_vectorizer.fit_transform(df[\"Lemmatized Title\"])\n",
    "\n",
    "body_vectorizer = TfidfVectorizer(\\\n",
    "\tencoding='utf-8-sig',\\\n",
    "\tdtype=numpy.float32,\\\n",
    "\tmax_features=10000 #(include to limit features)\n",
    ")\n",
    "x_body = body_vectorizer.fit_transform(df[\"Lemmatized Body\"])"
   ]
  },
  {
   "cell_type": "code",
   "execution_count": null,
   "id": "44492c37",
   "metadata": {},
   "outputs": [],
   "source": [
    "# double weightage for title words\n",
    "x_title = x_title * 2\n",
    "\n",
    "# merge rows\n",
    "from scipy.sparse import hstack\n",
    "\n",
    "X = hstack([x_title, x_body])\n",
    "y = df[\"Tags\"]"
   ]
  },
  {
   "cell_type": "code",
   "execution_count": null,
   "id": "c4c8256e",
   "metadata": {},
   "outputs": [],
   "source": [
    "# split into training and testing datasets (reproducible shuffle)\n",
    "from sklearn.model_selection import train_test_split\n",
    "\n",
    "X_train, X_test, y_train, y_test = train_test_split(X, y, test_size=0.2, shuffle=True, random_state=10)"
   ]
  },
  {
   "cell_type": "code",
   "execution_count": null,
   "id": "83ddb4bf",
   "metadata": {},
   "outputs": [],
   "source": [
    "# feature scaling\n",
    "from sklearn.preprocessing import StandardScaler\n",
    "\n",
    "sc = StandardScaler(with_mean=False)\n",
    "sc.fit(X_train)\n",
    "X_train = sc.transform(X_train)\n",
    "X_test = sc.transform(X_test)"
   ]
  },
  {
   "cell_type": "code",
   "execution_count": null,
   "id": "dcec46c6",
   "metadata": {},
   "outputs": [],
   "source": [
    "import os\n",
    "DATA_DIR = os.environ['USERPROFILE'] + \"\\Google Drive\\CD_Project_Colab\""
   ]
  },
  {
   "cell_type": "code",
   "execution_count": null,
   "id": "e7934764",
   "metadata": {},
   "outputs": [],
   "source": [
    "# dump to pickle files\n",
    "import joblib\n",
    "\n",
    "joblib.dump(X_train, f\"{DATA_DIR}/x_train_1.pkl\")\n",
    "joblib.dump(X_test, f\"{DATA_DIR}/x_test_1.pkl\")\n",
    "joblib.dump(y_train, f\"{DATA_DIR}/y_train_1.pkl\")\n",
    "joblib.dump(y_test, f\"{DATA_DIR}/y_test_1.pkl\")"
   ]
  }
 ],
 "metadata": {
  "kernelspec": {
   "display_name": "Python 3",
   "language": "python",
   "name": "python3"
  },
  "language_info": {
   "codemirror_mode": {
    "name": "ipython",
    "version": 3
   },
   "file_extension": ".py",
   "mimetype": "text/x-python",
   "name": "python",
   "nbconvert_exporter": "python",
   "pygments_lexer": "ipython3",
   "version": "3.8.10"
  }
 },
 "nbformat": 4,
 "nbformat_minor": 5
}
