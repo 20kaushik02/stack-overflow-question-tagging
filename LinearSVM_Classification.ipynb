{
 "cells": [
  {
   "cell_type": "code",
   "execution_count": null,
   "metadata": {},
   "outputs": [],
   "source": [
    "# import LinearSVC classifier\n",
    "from sklearn.svm import LinearSVC\n",
    "\n",
    "# instantiate classifier, with verbose logging level when run in terminal, and allowing for generous misclassification level\n",
    "svc=LinearSVC(verbose=2, C=0.00001)"
   ]
  },
  {
   "cell_type": "code",
   "execution_count": null,
   "metadata": {},
   "outputs": [],
   "source": [
    "#load data from pickle files\n",
    "import joblib\n",
    "\n",
    "X_train = joblib.load(f\"x_train_1.pkl\")\n",
    "X_test = joblib.load(f\"x_test_1.pkl\")\n",
    "y_train = joblib.load(f\"y_train_1.pkl\")\n",
    "y_test = joblib.load(f\"y_test_1.pkl\")"
   ]
  },
  {
   "cell_type": "code",
   "execution_count": null,
   "metadata": {},
   "outputs": [],
   "source": [
    "# fit classifier to training set\n",
    "svc.fit(X_train,y_train)"
   ]
  },
  {
   "cell_type": "code",
   "execution_count": null,
   "metadata": {},
   "outputs": [],
   "source": [
    "# make predictions on test set\n",
    "y_pred=svc.predict(X_test)"
   ]
  },
  {
   "cell_type": "code",
   "execution_count": null,
   "metadata": {},
   "outputs": [],
   "source": [
    "# import metrics to compute accuracy\n",
    "from sklearn.metrics import accuracy_score\n",
    "\n",
    "# compute and print accuracy score\n",
    "print('Model accuracy score: {0:0.10f}'.format(accuracy_score(y_test, y_pred)))"
   ]
  }
 ],
 "metadata": {
  "interpreter": {
   "hash": "4285a8749f80bbb3cf4696e62dbdcfdb61f8afc1f814f33df62ec2173f988bbd"
  },
  "kernelspec": {
   "display_name": "Python 3.8.10 64-bit ('CD_Project': conda)",
   "language": "python",
   "name": "python3"
  },
  "language_info": {
   "codemirror_mode": {
    "name": "ipython",
    "version": 3
   },
   "file_extension": ".py",
   "mimetype": "text/x-python",
   "name": "python",
   "nbconvert_exporter": "python",
   "pygments_lexer": "ipython3",
   "version": "3.8.10"
  },
  "orig_nbformat": 4
 },
 "nbformat": 4,
 "nbformat_minor": 2
}
