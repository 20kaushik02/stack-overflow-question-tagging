{
 "cells": [
  {
   "cell_type": "code",
   "execution_count": 94,
   "id": "23ad03fe",
   "metadata": {},
   "outputs": [],
   "source": [
    "import pandas as pd\n",
    "import numpy as np\n",
    "from ast import literal_eval\n",
    "import ast\n",
    "\n",
    "from sklearn.feature_extraction.text import TfidfVectorizer\n",
    "from sklearn.preprocessing import MultiLabelBinarizer\n",
    "from sklearn.model_selection import train_test_split\n",
    "from sklearn.model_selection import learning_curve\n",
    "from sklearn.model_selection import ShuffleSplit\n",
    "\n",
    "from sklearn.dummy import DummyClassifier\n",
    "from sklearn.naive_bayes import MultinomialNB\n",
    "from sklearn.linear_model import SGDClassifier\n",
    "from sklearn.linear_model import LogisticRegression\n",
    "from sklearn.multiclass import OneVsRestClassifier\n",
    "from sklearn.svm import LinearSVC\n",
    "from sklearn.linear_model import Perceptron\n",
    "from sklearn.linear_model import PassiveAggressiveClassifier\n",
    "\n",
    "from sklearn.neural_network import MLPClassifier\n",
    "from sklearn.ensemble import RandomForestClassifier\n",
    "from sklearn import model_selection\n",
    "from sklearn.metrics import make_scorer\n",
    "from sklearn.metrics import confusion_matrix\n",
    "from sklearn.metrics import hamming_loss\n",
    "from sklearn.cluster import KMeans\n",
    "\n",
    "from scipy.sparse import hstack"
   ]
  },
  {
   "cell_type": "code",
   "execution_count": 142,
   "id": "70ccd1e6",
   "metadata": {},
   "outputs": [],
   "source": [
    "df = pd.read_csv('StackSample_kaggle.csv', encoding=\"utf-8\", sep=';')"
   ]
  },
  {
   "cell_type": "code",
   "execution_count": 143,
   "id": "963a6326",
   "metadata": {},
   "outputs": [
    {
     "data": {
      "text/html": [
       "<div>\n",
       "<style scoped>\n",
       "    .dataframe tbody tr th:only-of-type {\n",
       "        vertical-align: middle;\n",
       "    }\n",
       "\n",
       "    .dataframe tbody tr th {\n",
       "        vertical-align: top;\n",
       "    }\n",
       "\n",
       "    .dataframe thead th {\n",
       "        text-align: right;\n",
       "    }\n",
       "</style>\n",
       "<table border=\"1\" class=\"dataframe\">\n",
       "  <thead>\n",
       "    <tr style=\"text-align: right;\">\n",
       "      <th></th>\n",
       "      <th>Unnamed: 0</th>\n",
       "      <th>ï»¿</th>\n",
       "      <th>Title</th>\n",
       "      <th>Body</th>\n",
       "      <th>Tags</th>\n",
       "    </tr>\n",
       "  </thead>\n",
       "  <tbody>\n",
       "    <tr>\n",
       "      <th>0</th>\n",
       "      <td>0</td>\n",
       "      <td>1</td>\n",
       "      <td>good branch merge tutorials tortoisesvn</td>\n",
       "      <td>really good tutorials explain branch merge apa...</td>\n",
       "      <td>['svn']</td>\n",
       "    </tr>\n",
       "    <tr>\n",
       "      <th>1</th>\n",
       "      <td>1</td>\n",
       "      <td>2</td>\n",
       "      <td>asp.net site map</td>\n",
       "      <td>anyone get experience create sql-based asp.net...</td>\n",
       "      <td>['sql', 'asp.net']</td>\n",
       "    </tr>\n",
       "    <tr>\n",
       "      <th>2</th>\n",
       "      <td>2</td>\n",
       "      <td>3</td>\n",
       "      <td>function create color wheel</td>\n",
       "      <td>something pseudo-solved many time never quite ...</td>\n",
       "      <td>['algorithm']</td>\n",
       "    </tr>\n",
       "    <tr>\n",
       "      <th>3</th>\n",
       "      <td>3</td>\n",
       "      <td>4</td>\n",
       "      <td>add script functionality .net applications</td>\n",
       "      <td>little game write c use database back-end trad...</td>\n",
       "      <td>['c#', '.net']</td>\n",
       "    </tr>\n",
       "    <tr>\n",
       "      <th>4</th>\n",
       "      <td>4</td>\n",
       "      <td>5</td>\n",
       "      <td>use nest class case</td>\n",
       "      <td>work collection class use video playback recor...</td>\n",
       "      <td>['c++', 'oop', 'class']</td>\n",
       "    </tr>\n",
       "  </tbody>\n",
       "</table>\n",
       "</div>"
      ],
      "text/plain": [
       "   Unnamed: 0  ï»¿                                       Title  \\\n",
       "0           0    1     good branch merge tutorials tortoisesvn   \n",
       "1           1    2                            asp.net site map   \n",
       "2           2    3                 function create color wheel   \n",
       "3           3    4  add script functionality .net applications   \n",
       "4           4    5                         use nest class case   \n",
       "\n",
       "                                                Body                     Tags  \n",
       "0  really good tutorials explain branch merge apa...                  ['svn']  \n",
       "1  anyone get experience create sql-based asp.net...       ['sql', 'asp.net']  \n",
       "2  something pseudo-solved many time never quite ...            ['algorithm']  \n",
       "3  little game write c use database back-end trad...           ['c#', '.net']  \n",
       "4  work collection class use video playback recor...  ['c++', 'oop', 'class']  "
      ]
     },
     "execution_count": 143,
     "metadata": {},
     "output_type": "execute_result"
    }
   ],
   "source": [
    "df.head()"
   ]
  },
  {
   "cell_type": "code",
   "execution_count": 147,
   "id": "868797d4",
   "metadata": {},
   "outputs": [],
   "source": [
    "#df['Title'] = df['Title'].apply(literal_eval)\n",
    "#df['Body'] = df['Body'].apply(literal_eval)\n",
    "df['Tags'] = df['Tags'].apply(literal_eval)"
   ]
  },
  {
   "cell_type": "code",
   "execution_count": 148,
   "id": "c784db88",
   "metadata": {
    "scrolled": true
   },
   "outputs": [
    {
     "data": {
      "text/plain": [
       "['regex']"
      ]
     },
     "execution_count": 148,
     "metadata": {},
     "output_type": "execute_result"
    }
   ],
   "source": [
    "df['Tags'][45]"
   ]
  },
  {
   "cell_type": "code",
   "execution_count": 101,
   "id": "c41f8f07",
   "metadata": {},
   "outputs": [],
   "source": [
    "#df['Title String'] = df['Lemmatized Title'].apply(lambda x: ' '.join(map(str, x)))\n",
    "#df['Body String'] = df['Lemmatized Body'].apply(lambda x: ' '.join(map(str, x)))"
   ]
  },
  {
   "cell_type": "code",
   "execution_count": 189,
   "id": "fef58432",
   "metadata": {},
   "outputs": [],
   "source": [
    "X1 = df['Body']\n",
    "X2 = df['Title']\n",
    "y = df['Tags']"
   ]
  },
  {
   "cell_type": "code",
   "execution_count": 190,
   "id": "fb8bd2fb",
   "metadata": {},
   "outputs": [
    {
     "data": {
      "text/plain": [
       "str"
      ]
     },
     "execution_count": 190,
     "metadata": {},
     "output_type": "execute_result"
    }
   ],
   "source": [
    "type(X2[0])"
   ]
  },
  {
   "cell_type": "code",
   "execution_count": 191,
   "id": "0d6c9df9",
   "metadata": {},
   "outputs": [],
   "source": [
    "multilabel_binarizer = MultiLabelBinarizer()\n",
    "y_bin = multilabel_binarizer.fit_transform(y)"
   ]
  },
  {
   "cell_type": "code",
   "execution_count": 192,
   "id": "8bbf8561",
   "metadata": {},
   "outputs": [
    {
     "data": {
      "text/plain": [
       "0        really good tutorials explain branch merge apa...\n",
       "1        anyone get experience create sql-based asp.net...\n",
       "2        something pseudo-solved many time never quite ...\n",
       "3        little game write c use database back-end trad...\n",
       "4        work collection class use video playback recor...\n",
       "                               ...                        \n",
       "58253    background look potentially use mpc5200 static...\n",
       "58254    want create app apple watch give user simple p...\n",
       "58255    pass value template events html template name ...\n",
       "58256    get weird error sql server cannot find solutio...\n",
       "58257    scalaz every monad instance automatically inst...\n",
       "Name: Body, Length: 58258, dtype: object"
      ]
     },
     "execution_count": 192,
     "metadata": {},
     "output_type": "execute_result"
    }
   ],
   "source": [
    "X1"
   ]
  },
  {
   "cell_type": "code",
   "execution_count": 193,
   "id": "31f6d042",
   "metadata": {},
   "outputs": [],
   "source": [
    "vectorizer_X1 = TfidfVectorizer(analyzer = 'word',\n",
    "                                       min_df=0.0,\n",
    "                                       max_df = 1.0,\n",
    "                                       strip_accents = None,\n",
    "                                       encoding = 'utf-8', \n",
    "                                       preprocessor=None,\n",
    "                                       token_pattern=r\"(?u)\\S\\S+\",\n",
    "                                       max_features=1000)\n",
    "\n",
    "vectorizer_X2 = TfidfVectorizer(analyzer = 'word',\n",
    "                                       min_df=0.0,\n",
    "                                       max_df = 1.0,\n",
    "                                       strip_accents = None,\n",
    "                                       encoding = 'utf-8', \n",
    "                                       preprocessor=None,\n",
    "                                       token_pattern=r\"(?u)\\S\\S+\",\n",
    "                                       max_features=1000)"
   ]
  },
  {
   "cell_type": "code",
   "execution_count": 194,
   "id": "8dd07dd0",
   "metadata": {},
   "outputs": [],
   "source": [
    "X1_tfidf = vectorizer_X1.fit_transform(X1.astype('U'))\n",
    "X2_tfidf = vectorizer_X2.fit_transform(X2.astype('U'))"
   ]
  },
  {
   "cell_type": "code",
   "execution_count": 195,
   "id": "035b435a",
   "metadata": {},
   "outputs": [],
   "source": [
    "X_tfidf = hstack([X1_tfidf,X2_tfidf])"
   ]
  },
  {
   "cell_type": "code",
   "execution_count": 196,
   "id": "96ba522f",
   "metadata": {},
   "outputs": [],
   "source": [
    "X_train, X_test, y_train, y_test = train_test_split(X_tfidf, y_bin, test_size = 0.2, random_state = 0)"
   ]
  },
  {
   "cell_type": "code",
   "execution_count": 197,
   "id": "e81066c4",
   "metadata": {},
   "outputs": [],
   "source": [
    "def avg_jacard(y_true,y_pred):\n",
    "    jacard = np.minimum(y_true,y_pred).sum(axis=1) / np.maximum(y_true,y_pred).sum(axis=1)\n",
    "    return jacard.mean()*100\n",
    "\n",
    "def print_score(y_pred, clf, y_test):\n",
    "    print(\"Clf: \", clf.__class__.__name__)\n",
    "    print(\"Jacard score: {}\".format(avg_jacard(y_test, y_pred)))\n",
    "    print(\"Hamming loss: {}\".format(hamming_loss(y_pred, y_test)*100))\n",
    "    print(\"---\")    "
   ]
  },
  {
   "cell_type": "code",
   "execution_count": 161,
   "id": "b06cd6ca",
   "metadata": {},
   "outputs": [
    {
     "name": "stdout",
     "output_type": "stream",
     "text": [
      "Clf:  DummyClassifier\n",
      "Jacard score: 0.0\n",
      "Hamming loss: 1.5775832475111569\n",
      "---\n",
      "Clf:  SGDClassifier\n",
      "Jacard score: 47.137973452340084\n",
      "Hamming loss: 0.974339169241332\n",
      "---\n",
      "Clf:  LogisticRegression\n",
      "Jacard score: 47.852586108250364\n",
      "Hamming loss: 0.9830930312392723\n",
      "---\n",
      "Clf:  MultinomialNB\n",
      "Jacard score: 40.08093848593334\n",
      "Hamming loss: 1.1818571918983864\n",
      "---\n",
      "Clf:  LinearSVC\n",
      "Jacard score: 51.91140290651105\n",
      "Hamming loss: 0.9703055269481633\n",
      "---\n",
      "Clf:  Perceptron\n",
      "Jacard score: 46.131115851764676\n",
      "Hamming loss: 1.5005149330587024\n",
      "---\n",
      "Clf:  PassiveAggressiveClassifier\n",
      "Jacard score: 48.471479792283084\n",
      "Hamming loss: 1.2925677995193958\n",
      "---\n"
     ]
    }
   ],
   "source": [
    "dummy = DummyClassifier()\n",
    "sgd = SGDClassifier()\n",
    "lr = LogisticRegression()\n",
    "mn = MultinomialNB()\n",
    "svc = LinearSVC()\n",
    "perceptron = Perceptron()\n",
    "pac = PassiveAggressiveClassifier()\n",
    "\n",
    "for classifier in [dummy, sgd, lr, mn, svc, perceptron, pac]:\n",
    "    clf = OneVsRestClassifier(classifier)\n",
    "    clf.fit(X_train, y_train)\n",
    "    y_pred = clf.predict(X_test)\n",
    "    print_score(y_pred, classifier)"
   ]
  },
  {
   "cell_type": "code",
   "execution_count": 199,
   "id": "053fa813",
   "metadata": {},
   "outputs": [
    {
     "name": "stdout",
     "output_type": "stream",
     "text": [
      "Clf:  LinearSVC\n",
      "Jacard score: 51.91140290651105\n",
      "Hamming loss: 0.9703055269481633\n",
      "---\n"
     ]
    }
   ],
   "source": [
    "svc = LinearSVC()\n",
    "clf = OneVsRestClassifier(svc)\n",
    "clf.fit(X_train, y_train)\n",
    "y_pred = clf.predict(X_test)\n",
    "print_score(y_pred, svc, y_test)"
   ]
  },
  {
   "cell_type": "code",
   "execution_count": 200,
   "id": "533723d5",
   "metadata": {},
   "outputs": [
    {
     "name": "stdout",
     "output_type": "stream",
     "text": [
      "Clf:  LinearSVC\n",
      "Jacard score: 66.91005449942068\n",
      "Hamming loss: 0.6284598549542978\n",
      "---\n"
     ]
    }
   ],
   "source": [
    "y_pred = clf.predict(X_train)\n",
    "print_score(y_pred, svc, y_train)"
   ]
  },
  {
   "cell_type": "code",
   "execution_count": 203,
   "id": "8233af81",
   "metadata": {},
   "outputs": [],
   "source": [
    "def tags_predict(classifier, qn, title):\n",
    "    X1_tfidf = vectorizer_X1.transform([qn])\n",
    "    X2_tfidf = vectorizer_X2.transform([title])\n",
    "    \n",
    "    X_tfidf = hstack([X1_tfidf, X2_tfidf])\n",
    "    \n",
    "    y_pred = classifier.predict(X_tfidf)\n",
    "    print(multilabel_binarizer.inverse_transform(y_pred))"
   ]
  },
  {
   "cell_type": "code",
   "execution_count": 210,
   "id": "09aa82b6",
   "metadata": {},
   "outputs": [
    {
     "name": "stdout",
     "output_type": "stream",
     "text": [
      "[('c#', 'regex')]\n"
     ]
    }
   ],
   "source": [
    "tags_predict(clf, X1[45], X2[45])"
   ]
  },
  {
   "cell_type": "code",
   "execution_count": 211,
   "id": "2224095b",
   "metadata": {},
   "outputs": [
    {
     "name": "stdout",
     "output_type": "stream",
     "text": [
      "['regex']\n"
     ]
    }
   ],
   "source": [
    "print(y[45])"
   ]
  }
 ],
 "metadata": {
  "kernelspec": {
   "display_name": "Python 3",
   "language": "python",
   "name": "python3"
  },
  "language_info": {
   "codemirror_mode": {
    "name": "ipython",
    "version": 3
   },
   "file_extension": ".py",
   "mimetype": "text/x-python",
   "name": "python",
   "nbconvert_exporter": "python",
   "pygments_lexer": "ipython3",
   "version": "3.8.10"
  }
 },
 "nbformat": 4,
 "nbformat_minor": 5
}
