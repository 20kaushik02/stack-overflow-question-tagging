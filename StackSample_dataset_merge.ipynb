{
 "cells": [
  {
   "cell_type": "code",
   "execution_count": null,
   "id": "26995931",
   "metadata": {},
   "outputs": [],
   "source": [
    "import pandas as pd\n",
    "import csv\n",
    "import sys\n",
    "from tqdm import tqdm"
   ]
  },
  {
   "cell_type": "code",
   "execution_count": null,
   "id": "6ec3b644",
   "metadata": {},
   "outputs": [],
   "source": [
    "TAGS_DIR = \"../Data/Tags.csv\"\n",
    "QNS_DIR = \"../Data/Questions.csv\""
   ]
  },
  {
   "cell_type": "code",
   "execution_count": null,
   "id": "94f9de19",
   "metadata": {},
   "outputs": [],
   "source": [
    "tags_df = pd.read_csv(TAGS_DIR, sep=',')\n",
    "print(tags_df.head())"
   ]
  },
  {
   "cell_type": "code",
   "execution_count": null,
   "id": "177796f2",
   "metadata": {
    "scrolled": true
   },
   "outputs": [],
   "source": [
    "top_tag_map = tags_df.groupby('Tag', as_index=False).agg(lambda x: set(x))\n",
    "top_tag_map"
   ]
  },
  {
   "cell_type": "code",
   "execution_count": null,
   "id": "40f2cc6b",
   "metadata": {},
   "outputs": [],
   "source": [
    "qn_tag_map = tags_df.groupby('Id', as_index=True).agg(lambda x: set(x))\n",
    "qn_tag_map"
   ]
  },
  {
   "cell_type": "code",
   "execution_count": null,
   "id": "15b10976",
   "metadata": {},
   "outputs": [],
   "source": [
    "top_tag_map[\"Tag Count\"] = top_tag_map.apply(lambda row: len(row['Id']), axis = 1)"
   ]
  },
  {
   "cell_type": "code",
   "execution_count": null,
   "id": "26a92935",
   "metadata": {},
   "outputs": [],
   "source": [
    "top_tag_map_100 = top_tag_map.sort_values(\"Tag Count\", ascending=False).head(100).reset_index(drop=True)\n",
    "top_tag_map_100"
   ]
  },
  {
   "cell_type": "code",
   "execution_count": null,
   "id": "9efcb4e2",
   "metadata": {
    "scrolled": true
   },
   "outputs": [],
   "source": [
    "all_id = set()\n",
    "for i in range(0, 100):\n",
    "    print(top_tag_map_100.loc[i]['Tag'], len(top_tag_map_100.loc[i]['Id']))\n",
    "    all_id.update(top_tag_map_100.loc[i]['Id'])\n",
    "print(len(all_id))"
   ]
  },
  {
   "cell_type": "code",
   "execution_count": null,
   "id": "3b8f084c",
   "metadata": {},
   "outputs": [],
   "source": [
    "fin_count = 0\n",
    "with open(QNS_DIR, \"rt\", newline='', encoding='ISO-8859-1') as qns_file:\n",
    "    datareader = csv.DictReader(qns_file)\n",
    "    try:\n",
    "        for row in datareader:\n",
    "            if(int(row[\"Id\"]) in all_id and int(row[\"Score\"]) >= 5):\n",
    "                tags = list(qn_tag_map.at[int(row[\"Id\"]), 'Tag'])\n",
    "                fin_count+=1\n",
    "    except Exception as e:\n",
    "        print(e)\n",
    "print(f\"Total number of questions having top 100 tags and score of 5 or above: {fin_count}\")"
   ]
  },
  {
   "cell_type": "code",
   "execution_count": null,
   "id": "e2fed26d",
   "metadata": {},
   "outputs": [],
   "source": [
    "def get_qns():\n",
    "    with open(QNS_DIR, \"rt\", newline='', encoding='ISO-8859-1') as qns_file:\n",
    "        datareader = csv.DictReader(qns_file)\n",
    "        try:\n",
    "            for row in datareader:\n",
    "                if(int(row[\"Id\"]) in all_id and int(row[\"Score\"]) >= 5):\n",
    "                    tags = list(qn_tag_map.at[int(row[\"Id\"]), 'Tag'])\n",
    "                    yield [row[\"Title\"], row[\"Body\"], tags, len(tags)]\n",
    "        except:\n",
    "            pass"
   ]
  },
  {
   "cell_type": "code",
   "execution_count": null,
   "id": "c3044444",
   "metadata": {},
   "outputs": [],
   "source": [
    "data = []\n",
    "qn_generator = get_qns()"
   ]
  },
  {
   "cell_type": "code",
   "execution_count": null,
   "id": "e3d96257",
   "metadata": {
    "scrolled": true
   },
   "outputs": [],
   "source": [
    "data = []\n",
    "with tqdm(total=fin_count, file=sys.stdout) as pbar:\n",
    "    while(True):\n",
    "        try:\n",
    "            data.append(next(qn_generator))\n",
    "            pbar.update(1)\n",
    "        except StopIteration as e:\n",
    "            break\n",
    "        except Exception as e:\n",
    "            print(e, file=sys.stderr)\n",
    "            break\n",
    "    df = pd.DataFrame(data, columns = ['Title', 'Body', 'Tags', 'Tag Count'])\n",
    "    df.to_csv(f'StackSample_merged.csv', sep=\";\", encoding='utf-8-sig', index_label='ID')"
   ]
  }
 ],
 "metadata": {
  "interpreter": {
   "hash": "ef7f9a8012d9131766e31894c279374cc63c73121ed4db3b9e67a294a4bf0e74"
  },
  "kernelspec": {
   "display_name": "Python 3.8.5 64-bit ('base': conda)",
   "name": "python3"
  },
  "language_info": {
   "codemirror_mode": {
    "name": "ipython",
    "version": 3
   },
   "file_extension": ".py",
   "mimetype": "text/x-python",
   "name": "python",
   "nbconvert_exporter": "python",
   "pygments_lexer": "ipython3",
   "version": "3.8.10"
  }
 },
 "nbformat": 4,
 "nbformat_minor": 5
}
