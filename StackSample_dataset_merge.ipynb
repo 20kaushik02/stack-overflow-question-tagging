{
 "cells": [
  {
   "cell_type": "code",
   "execution_count": 1,
   "id": "26995931",
   "metadata": {},
   "outputs": [],
   "source": [
    "import pandas as pd\n",
    "import sys\n",
    "import csv"
   ]
  },
  {
   "cell_type": "code",
   "execution_count": 3,
   "id": "6ec3b644",
   "metadata": {},
   "outputs": [],
   "source": [
    "TAGS_DIR = \"../Data/Tags.csv\"\n",
    "QNS_DIR = \"../Data/Questions.csv\"\n",
    "output_file = \"StackSample\""
   ]
  },
  {
   "cell_type": "code",
   "execution_count": 4,
   "id": "94f9de19",
   "metadata": {},
   "outputs": [
    {
     "name": "stdout",
     "output_type": "stream",
     "text": [
      "3750994    Id             Tag\n",
      "0  80            flex\n",
      "1  80  actionscript-3\n",
      "2  80             air\n",
      "3  90             svn\n",
      "4  90     tortoisesvn\n"
     ]
    }
   ],
   "source": [
    "tags_df = pd.read_csv(TAGS_DIR, sep=',')\n",
    "print(len(tags_df), tags_df.head())"
   ]
  },
  {
   "cell_type": "code",
   "execution_count": null,
   "id": "177796f2",
   "metadata": {
    "scrolled": true
   },
   "outputs": [],
   "source": [
    "top_tag_map = tags_df.groupby('Tag', as_index=False).agg(lambda x: set(x))\n",
    "top_tag_map"
   ]
  },
  {
   "cell_type": "code",
   "execution_count": null,
   "id": "40f2cc6b",
   "metadata": {},
   "outputs": [],
   "source": [
    "qn_tag_map = tags_df.groupby('Id', as_index=True).agg(lambda x: set(x))\n",
    "qn_tag_map"
   ]
  },
  {
   "cell_type": "code",
   "execution_count": null,
   "id": "15b10976",
   "metadata": {},
   "outputs": [],
   "source": [
    "top_tag_map[\"Tag_count\"] = top_tag_map.apply(lambda row: len(row.Id), axis = 1)"
   ]
  },
  {
   "cell_type": "code",
   "execution_count": null,
   "id": "26a92935",
   "metadata": {},
   "outputs": [],
   "source": [
    "top_tag_map_100 = top_tag_map.sort_values(\"Tag_count\", ascending=False).head(100).reset_index(drop=True)\n",
    "top_tag_map_100"
   ]
  },
  {
   "cell_type": "code",
   "execution_count": null,
   "id": "9efcb4e2",
   "metadata": {
    "scrolled": true
   },
   "outputs": [],
   "source": [
    "all_id = set()\n",
    "for i in range(0, 100):\n",
    "    print(top_tag_map_100.loc[i]['Tag'], len(top_tag_map_100.loc[i]['Id']))\n",
    "    all_id.update(top_tag_map_100.loc[i]['Id'])\n",
    "print(len(all_id))"
   ]
  },
  {
   "cell_type": "code",
   "execution_count": null,
   "id": "e2fed26d",
   "metadata": {},
   "outputs": [],
   "source": [
    "def get_qns():\n",
    "    with open(QNS_DIR, \"rt\", newline='', encoding='ISO-8859-1') as qns_file:\n",
    "        datareader = csv.DictReader(qns_file)\n",
    "        try:\n",
    "            for row in datareader:\n",
    "                if(int(row[\"Id\"]) in all_id):\n",
    "                    tags = list(qn_tag_map.at[int(row[\"Id\"]), 'Tag'])\n",
    "                    yield [row[\"Title\"], row[\"Body\"], tags, len(tags)]\n",
    "        except:\n",
    "            pass"
   ]
  },
  {
   "cell_type": "code",
   "execution_count": null,
   "id": "c3044444",
   "metadata": {},
   "outputs": [],
   "source": [
    "data = []\n",
    "qn_generator = get_qns()"
   ]
  },
  {
   "cell_type": "code",
   "execution_count": null,
   "id": "61d88d21",
   "metadata": {},
   "outputs": [],
   "source": [
    "ids = [250000, 500000, 750000, len(all_id)]"
   ]
  },
  {
   "cell_type": "code",
   "execution_count": null,
   "id": "e3d96257",
   "metadata": {
    "scrolled": true
   },
   "outputs": [],
   "source": [
    "i = 0\n",
    "for n, idx in enumerate(ids): \n",
    "    data = []\n",
    "    while(i < idx):\n",
    "        try:\n",
    "            data.append(next(qn_generator))\n",
    "            print(i)\n",
    "            i += 1\n",
    "        except Exception as e:\n",
    "            print(e)\n",
    "            break\n",
    "    df = pd.DataFrame(data, columns = ['Title', 'Body', 'Tags', 'Tag Count'])\n",
    "    df.to_csv(f'{output_file}{n+1}.csv', sep=\";\", encoding='utf-8-sig', index_label='ID')"
   ]
  }
 ],
 "metadata": {
  "interpreter": {
   "hash": "ef7f9a8012d9131766e31894c279374cc63c73121ed4db3b9e67a294a4bf0e74"
  },
  "kernelspec": {
   "display_name": "Python 3.8.5 64-bit ('base': conda)",
   "name": "python3"
  },
  "language_info": {
   "codemirror_mode": {
    "name": "ipython",
    "version": 3
   },
   "file_extension": ".py",
   "mimetype": "text/x-python",
   "name": "python",
   "nbconvert_exporter": "python",
   "pygments_lexer": "ipython3",
   "version": "3.8.5"
  }
 },
 "nbformat": 4,
 "nbformat_minor": 5
}
