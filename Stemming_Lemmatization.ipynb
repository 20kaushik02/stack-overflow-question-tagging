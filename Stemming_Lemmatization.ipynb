{
 "cells": [
  {
   "cell_type": "code",
   "execution_count": null,
   "id": "6bbf084e",
   "metadata": {
    "scrolled": false
   },
   "outputs": [],
   "source": [
    "import pandas as pd\n",
    "import csv\n",
    "import ast\n",
    "import nltk\n",
    "from nltk.stem import SnowballStemmer\n",
    "from nltk.stem.wordnet import WordNetLemmatizer\n",
    "nltk.download('wordnet')\n",
    "from tqdm import notebook\n",
    "notebook.tqdm.pandas()\n",
    "\n",
    "stemmer = SnowballStemmer('english')\n",
    "lemmatizer = WordNetLemmatizer()  "
   ]
  },
  {
   "cell_type": "code",
   "execution_count": null,
   "id": "4e2e1865",
   "metadata": {
    "scrolled": false
   },
   "outputs": [],
   "source": [
    "for count in range(1, 5):\n",
    "    print(f\"STEMMING AND LEMMATIZATION ON: StackSample{count}_Pre.csv\")\n",
    "    sspre = pd.read_csv(f\"StackSample{count}_Pre.csv\", sep=';')\n",
    "    display(sspre.head())\n",
    "\n",
    "    print(\"Stemming...\")\n",
    "    sspre[\"Stemmed Title\"] = sspre[\"Tokenized Title\"].progress_apply(\\\n",
    "                                                    lambda x: [stemmer.stem(y) for y in ast.literal_eval(x)])\n",
    "    sspre[\"Stemmed Body\"] = sspre[\"Tokenized Body\"].progress_apply(\\\n",
    "                                                    lambda x: [stemmer.stem(y) for y in ast.literal_eval(x)])\n",
    "\n",
    "    print(\"Lemmatizing...\")\n",
    "    sspre[\"Lemmatized Title\"] = sspre[\"Tokenized Title\"].progress_apply(\\\n",
    "                                                    lambda x: [lemmatizer.lemmatize(y, pos=\"v\") for y in ast.literal_eval(x)])\n",
    "    sspre[\"Lemmatized Body\"] = sspre[\"Tokenized Body\"].progress_apply(\\\n",
    "                                                    lambda x: [lemmatizer.lemmatize(y, pos=\"v\") for y in ast.literal_eval(x)])\n",
    "    \n",
    "    print(f\"Converting to CSV as StackSample{count}_StemLemm.csv...\")\n",
    "    sspre[[\"ID\",\"Stemmed Title\",\"Stemmed Body\",\"Lemmatized Title\",\"Lemmatized Body\",\"Tags\",\"Tag Count\"]].to_csv(\\\n",
    "                                                        f\"StackSample{count}_StemLemm.csv\",sep=\";\", index=False)"
   ]
  },
  {
   "cell_type": "code",
   "execution_count": null,
   "id": "3582213b",
   "metadata": {},
   "outputs": [],
   "source": []
  }
 ],
 "metadata": {
  "kernelspec": {
   "display_name": "Python 3",
   "language": "python",
   "name": "python3"
  },
  "language_info": {
   "codemirror_mode": {
    "name": "ipython",
    "version": 3
   },
   "file_extension": ".py",
   "mimetype": "text/x-python",
   "name": "python",
   "nbconvert_exporter": "python",
   "pygments_lexer": "ipython3",
   "version": "3.8.10"
  }
 },
 "nbformat": 4,
 "nbformat_minor": 5
}
